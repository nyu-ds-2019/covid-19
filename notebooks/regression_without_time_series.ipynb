{
 "cells": [
  {
   "cell_type": "code",
   "execution_count": 1,
   "metadata": {},
   "outputs": [],
   "source": [
    "import pandas as pd \n",
    "from sklearn.linear_model import LinearRegression\n",
    "from sklearn.metrics import mean_squared_error, r2_score\n",
    "from sklearn import preprocessing\n",
    "from sklearn.preprocessing import PolynomialFeatures\n",
    "app_dir = '/Users/nikhilvs/repos/nyu/covid-19'"
   ]
  },
  {
   "cell_type": "code",
   "execution_count": 2,
   "metadata": {},
   "outputs": [],
   "source": [
    "df = pd.read_csv(os.path.join(app_dir, 'data/staging/unified.csv'))\n",
    "us_df = df[df['country_region'] == 'United States']"
   ]
  },
  {
   "cell_type": "code",
   "execution_count": 3,
   "metadata": {},
   "outputs": [
    {
     "output_type": "execute_result",
     "data": {
      "text/plain": "country_region                                         object\ndate                                                   object\nretail_and_recreation_percent_change_from_baseline    float64\ngrocery_and_pharmacy_percent_change_from_baseline     float64\nparks_percent_change_from_baseline                    float64\ntransit_stations_percent_change_from_baseline         float64\nworkplaces_percent_change_from_baseline               float64\nresidential_percent_change_from_baseline              float64\nC1_School closing                                     float64\nC2_Workplace closing                                  float64\nC3_Cancel public events                               float64\nC4_Restrictions on gatherings                         float64\nC5_Close public transport                             float64\nC6_Stay at home requirements                          float64\nC7_Restrictions on internal movement                  float64\nC8_International travel controls                      float64\nE1_Income support                                     float64\nE2_Debt/contract relief                               float64\nH1_Public information campaigns                       float64\nH2_Testing policy                                     float64\nH3_Contact tracing                                    float64\nStringencyIndex                                       float64\ncases                                                   int64\ndeaths                                                  int64\nrecovered                                               int64\ndtype: object"
     },
     "metadata": {},
     "execution_count": 3
    }
   ],
   "source": [
    "df.dtypes"
   ]
  },
  {
   "cell_type": "code",
   "execution_count": 4,
   "metadata": {},
   "outputs": [],
   "source": [
    "TRAIN_COLUMNS = [\n",
    "    # 'country_region',\n",
    "    # 'date',\n",
    "    'retail_and_recreation_percent_change_from_baseline',\n",
    "    'grocery_and_pharmacy_percent_change_from_baseline',\n",
    "    'parks_percent_change_from_baseline',\n",
    "    'transit_stations_percent_change_from_baseline',\n",
    "    'workplaces_percent_change_from_baseline',\n",
    "    'residential_percent_change_from_baseline',\n",
    "    'C1_School closing',\n",
    "    'C2_Workplace closing',\n",
    "    'C3_Cancel public events',\n",
    "    'C4_Restrictions on gatherings',\n",
    "    'C5_Close public transport',\n",
    "    'C6_Stay at home requirements',\n",
    "    'C7_Restrictions on internal movement',\n",
    "    'C8_International travel controls',\n",
    "    'E1_Income support',\n",
    "    'E2_Debt/contract relief',\n",
    "    'H1_Public information campaigns',\n",
    "    'H2_Testing policy',\n",
    "    'H3_Contact tracing',\n",
    "    'StringencyIndex'\n",
    "]\n",
    "\n",
    "TARGET_COLUMNS = [\n",
    "    'cases'\n",
    "]"
   ]
  },
  {
   "cell_type": "code",
   "execution_count": 6,
   "metadata": {},
   "outputs": [
    {
     "output_type": "error",
     "ename": "NameError",
     "evalue": "name 'X_train' is not defined",
     "traceback": [
      "\u001b[0;31m---------------------------------------------------------------------------\u001b[0m",
      "\u001b[0;31mNameError\u001b[0m                                 Traceback (most recent call last)",
      "\u001b[0;32m<ipython-input-6-9faecbeb5004>\u001b[0m in \u001b[0;36m<module>\u001b[0;34m\u001b[0m\n\u001b[1;32m      2\u001b[0m \u001b[0mtest_subset\u001b[0m \u001b[0;34m=\u001b[0m \u001b[0mus_df\u001b[0m\u001b[0;34m[\u001b[0m\u001b[0mus_df\u001b[0m\u001b[0;34m[\u001b[0m\u001b[0;34m'date'\u001b[0m\u001b[0;34m]\u001b[0m \u001b[0;34m>\u001b[0m \u001b[0;34m'2020-05-05'\u001b[0m\u001b[0;34m]\u001b[0m\u001b[0;34m\u001b[0m\u001b[0;34m\u001b[0m\u001b[0m\n\u001b[1;32m      3\u001b[0m \u001b[0;34m\u001b[0m\u001b[0m\n\u001b[0;32m----> 4\u001b[0;31m \u001b[0mscaler\u001b[0m \u001b[0;34m=\u001b[0m \u001b[0mpreprocessing\u001b[0m\u001b[0;34m.\u001b[0m\u001b[0mStandardScaler\u001b[0m\u001b[0;34m(\u001b[0m\u001b[0;34m)\u001b[0m\u001b[0;34m.\u001b[0m\u001b[0mfit\u001b[0m\u001b[0;34m(\u001b[0m\u001b[0mX_train\u001b[0m\u001b[0;34m)\u001b[0m\u001b[0;34m\u001b[0m\u001b[0;34m\u001b[0m\u001b[0m\n\u001b[0m\u001b[1;32m      5\u001b[0m \u001b[0mX_train\u001b[0m \u001b[0;34m=\u001b[0m \u001b[0mscaler\u001b[0m\u001b[0;34m.\u001b[0m\u001b[0mtransform\u001b[0m\u001b[0;34m(\u001b[0m\u001b[0mtrain_subset\u001b[0m\u001b[0;34m[\u001b[0m\u001b[0mTRAIN_COLUMNS\u001b[0m\u001b[0;34m]\u001b[0m\u001b[0;34m)\u001b[0m\u001b[0;34m\u001b[0m\u001b[0;34m\u001b[0m\u001b[0m\n\u001b[1;32m      6\u001b[0m \u001b[0my_train\u001b[0m \u001b[0;34m=\u001b[0m \u001b[0mtrain_subset\u001b[0m\u001b[0;34m[\u001b[0m\u001b[0mTARGET_COLUMNS\u001b[0m\u001b[0;34m]\u001b[0m\u001b[0;34m\u001b[0m\u001b[0;34m\u001b[0m\u001b[0m\n",
      "\u001b[0;31mNameError\u001b[0m: name 'X_train' is not defined"
     ]
    }
   ],
   "source": [
    "train_subset = us_df[us_df['date'] <= '2020-05-05']\n",
    "test_subset = us_df[us_df['date'] > '2020-05-05']\n",
    "\n",
    "scaler = preprocessing.StandardScaler().fit()\n",
    "X_train = scaler.transform(train_subset[TRAIN_COLUMNS])\n",
    "y_train = train_subset[TARGET_COLUMNS]\n",
    "X_test = scaler.transform(test_subset[TRAIN_COLUMNS])\n",
    "y_test = test_subset[TARGET_COLUMNS]\n",
    "\n",
    "# Naive linear regression - no shift in number of cases\n",
    "reg = LinearRegression().fit(X_train, y_train)\n",
    "reg.score(X_train, y_train)\n",
    "pred = reg.predict(X_test)\n",
    "print(mean_squared_error(y_test, pred))\n",
    "print(r2_score(y_test, pred))"
   ]
  },
  {
   "cell_type": "code",
   "execution_count": 78,
   "metadata": {},
   "outputs": [
    {
     "output_type": "stream",
     "name": "stdout",
     "text": "843958898706.8376\n-40.8527550870816\n841960956520.6454\n-46.58236466902283\n841586989794.7777\n-53.80130008678709\n840956248106.7882\n-61.89873091310629\n841175136389.8099\n-71.15624907036523\n841560305127.0378\n-82.38497935644682\n839371233423.5619\n-97.42785905729639\n834069660206.705\n-118.19003851826028\n828626072298.9722\n-147.69993170002178\n"
    }
   ],
   "source": [
    "for SHIFT_IMPACT_DAYS in list(range(1, 10)):\n",
    "    us_shifted_df = us_df.copy()\n",
    "\n",
    "    SHIFT_COL = 'cases_' + str(SHIFT_IMPACT_DAYS)\n",
    "    us_shifted_df[SHIFT_COL] = us_shifted_df['cases'].shift(-SHIFT_IMPACT_DAYS)\n",
    "    us_shifted_df = us_shifted_df.dropna()\n",
    "    train_subset = us_shifted_df[us_shifted_df['date'] <= '2020-04-20']\n",
    "    test_subset = us_shifted_df[us_shifted_df['date'] > '2020-04-20']\n",
    "\n",
    "    X_train = preprocessing.scale(train_subset[TRAIN_COLUMNS])\n",
    "    y_train = train_subset[SHIFT_COL]\n",
    "    X_test = preprocessing.scale(test_subset[TRAIN_COLUMNS])\n",
    "    y_test = test_subset[SHIFT_COL]\n",
    "\n",
    "    reg = LinearRegression().fit(X_train, y_train)\n",
    "    reg.score(X_train, y_train)\n",
    "    pred = reg.predict(X_test)\n",
    "    print(mean_squared_error(y_test, pred))\n",
    "    print(r2_score(y_test, pred))"
   ]
  },
  {
   "cell_type": "code",
   "execution_count": 17,
   "metadata": {},
   "outputs": [
    {
     "output_type": "stream",
     "name": "stdout",
     "text": "105638719090.81653\n-117.01288131993083\n"
    }
   ],
   "source": [
    "train_subset = us_df[us_df['date'] <= '2020-05-05']\n",
    "test_subset = us_df[us_df['date'] > '2020-05-05']\n",
    "\n",
    "X_train = train_subset[TRAIN_COLUMNS]\n",
    "y_train = train_subset[TARGET_COLUMNS]\n",
    "X_test = test_subset[TRAIN_COLUMNS]\n",
    "y_test = test_subset[TARGET_COLUMNS]\n",
    "\n",
    "poly = PolynomialFeatures(4)\n",
    "\n",
    "X_train_poly = poly.fit_transform(X_train)\n",
    "scaler = preprocessing.StandardScaler().fit(X_train_poly)\n",
    "\n",
    "X_train_poly = scaler.transform(X_train_poly)\n",
    "X_test_poly = scaler.transform(poly.fit_transform(X_test))\n",
    "\n",
    "reg = LinearRegression().fit(X_train_poly, y_train)\n",
    "reg.score(X_train_poly, y_train)\n",
    "pred = reg.predict(X_test_poly)\n",
    "print(mean_squared_error(y_test, pred))\n",
    "print(r2_score(y_test, pred))"
   ]
  },
  {
   "cell_type": "code",
   "execution_count": 84,
   "metadata": {},
   "outputs": [
    {
     "output_type": "execute_result",
     "data": {
      "text/plain": "(81, 231)"
     },
     "metadata": {},
     "execution_count": 84
    }
   ],
   "source": []
  },
  {
   "cell_type": "code",
   "execution_count": null,
   "metadata": {},
   "outputs": [],
   "source": []
  }
 ],
 "metadata": {
  "language_info": {
   "codemirror_mode": {
    "name": "ipython",
    "version": 3
   },
   "file_extension": ".py",
   "mimetype": "text/x-python",
   "name": "python",
   "nbconvert_exporter": "python",
   "pygments_lexer": "ipython3",
   "version": "3.7.7-final"
  },
  "orig_nbformat": 2,
  "kernelspec": {
   "name": "python37364bitbaseconda5256b649568d47b0ada5f4982042f9e1",
   "display_name": "Python 3.7.3 64-bit ('base': conda)"
  }
 },
 "nbformat": 4,
 "nbformat_minor": 2
}