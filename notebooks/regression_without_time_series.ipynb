{
 "cells": [
  {
   "cell_type": "code",
   "execution_count": 37,
   "metadata": {},
   "outputs": [],
   "source": [
    "import pandas as pd \n",
    "from sklearn.linear_model import LinearRegression, Ridge\n",
    "from sklearn.metrics import mean_squared_error, r2_score\n",
    "from sklearn import preprocessing\n",
    "from sklearn.preprocessing import PolynomialFeatures\n",
    "app_dir = '/Users/nikhilvs/repos/nyu/covid-19'"
   ]
  },
  {
   "cell_type": "code",
   "execution_count": 123,
   "metadata": {},
   "outputs": [],
   "source": [
    "df = pd.read_csv(os.path.join(app_dir, 'data/staging/unified.csv'))\n",
    "us_df = df[df['country_region'] == 'Spain']"
   ]
  },
  {
   "cell_type": "code",
   "execution_count": 124,
   "metadata": {},
   "outputs": [
    {
     "output_type": "execute_result",
     "data": {
      "text/plain": "country_region                                         object\ndate                                                   object\nretail_and_recreation_percent_change_from_baseline    float64\ngrocery_and_pharmacy_percent_change_from_baseline     float64\nparks_percent_change_from_baseline                    float64\ntransit_stations_percent_change_from_baseline         float64\nworkplaces_percent_change_from_baseline               float64\nresidential_percent_change_from_baseline              float64\nC1_School closing                                     float64\nC2_Workplace closing                                  float64\nC3_Cancel public events                               float64\nC4_Restrictions on gatherings                         float64\nC5_Close public transport                             float64\nC6_Stay at home requirements                          float64\nC7_Restrictions on internal movement                  float64\nC8_International travel controls                      float64\nE1_Income support                                     float64\nE2_Debt/contract relief                               float64\nH1_Public information campaigns                       float64\nH2_Testing policy                                     float64\nH3_Contact tracing                                    float64\nStringencyIndex                                       float64\ncases                                                   int64\ncases_lag_1                                             int64\ncases_lag_2                                             int64\ncases_lag_3                                             int64\ncases_lag_4                                             int64\ncases_lag_5                                             int64\ncases_lag_6                                             int64\ncases_lag_7                                             int64\ncases_lag_8                                             int64\ncases_lag_9                                             int64\ncases_lag_10                                            int64\ncases_lag_11                                            int64\ncases_lag_12                                            int64\ncases_lag_13                                            int64\ncases_lag_14                                            int64\ncases_lag_15                                            int64\ncases_lag_16                                            int64\ncases_lag_17                                            int64\ncases_lag_18                                            int64\ncases_lag_19                                            int64\ndeaths                                                  int64\nrecovered                                               int64\ndtype: object"
     },
     "metadata": {},
     "execution_count": 124
    }
   ],
   "source": [
    "df.dtypes"
   ]
  },
  {
   "cell_type": "code",
   "execution_count": 289,
   "metadata": {},
   "outputs": [],
   "source": [
    "TRAIN_COLUMNS = [\n",
    "    # 'country_region',\n",
    "    # 'date',\n",
    "    'retail_and_recreation_percent_change_from_baseline',\n",
    "    'grocery_and_pharmacy_percent_change_from_baseline',\n",
    "    'parks_percent_change_from_baseline',\n",
    "    'transit_stations_percent_change_from_baseline',\n",
    "    'workplaces_percent_change_from_baseline',\n",
    "    'residential_percent_change_from_baseline',\n",
    "    'C1_School closing',\n",
    "    'C2_Workplace closing',\n",
    "    'C3_Cancel public events',\n",
    "    'C4_Restrictions on gatherings',\n",
    "    'C5_Close public transport',\n",
    "    'C6_Stay at home requirements',\n",
    "    'C7_Restrictions on internal movement',\n",
    "    'C8_International travel controls',\n",
    "    'E1_Income support',\n",
    "    'E2_Debt/contract relief',\n",
    "    'H1_Public information campaigns',\n",
    "    'H2_Testing policy',\n",
    "    'H3_Contact tracing',\n",
    "    'StringencyIndex',\n",
    "    # 'cases_lag_1',\n",
    "    # 'cases_lag_2',\n",
    "    # 'cases_lag_3',\n",
    "    # 'cases_lag_4',\n",
    "    # 'cases_lag_5',\n",
    "    # 'cases_lag_6',\n",
    "    'cases_lag_7'\n",
    "    # 'cases_lag_8',\n",
    "    # 'cases_lag_9',\n",
    "    # 'cases_lag_10'\n",
    "]\n",
    "\n",
    "TARGET_COLUMNS = [\n",
    "    'cases'\n",
    "]\n",
    "\n",
    "df = pd.read_csv(os.path.join(app_dir, 'data/staging/unified.csv'))\n",
    "us_df = df[df['country_region'] == 'Spain']\n",
    "\n",
    "COUNTRIES = [\n",
    "    'United States', \n",
    "    'India', \n",
    "    'Italy', \n",
    "    'Canada', \n",
    "    'Spain', \n",
    "    'France', \n",
    "    'United Kingdom',\n",
    "    'Iraq',\n",
    "    'Japan',\n",
    "    'South Korea',\n",
    "    'Germany',\n",
    "    'Brazil'\n",
    "]"
   ]
  },
  {
   "cell_type": "code",
   "execution_count": 247,
   "metadata": {},
   "outputs": [
    {
     "output_type": "stream",
     "name": "stdout",
     "text": "0.9941369317818961\n12396135.708571726\n-6.839137678096982\n"
    }
   ],
   "source": [
    "train_subset = us_df[us_df['date'] <= '2020-05-05']\n",
    "test_subset = us_df[us_df['date'] > '2020-05-05']\n",
    "\n",
    "# scaler = preprocessing.StandardScaler().fit()\n",
    "X_train = train_subset[TRAIN_COLUMNS]\n",
    "y_train = train_subset[TARGET_COLUMNS]\n",
    "X_test = test_subset[TRAIN_COLUMNS]\n",
    "y_test = test_subset[TARGET_COLUMNS]\n",
    "\n",
    "# Naive linear regression - no shift in number of cases\n",
    "# reg = LinearRegression().fit(X_train, y_train)\n",
    "reg = Ridge(alpha = 1).fit(X_train, y_train)\n",
    "print(reg.score(X_train, y_train))\n",
    "pred = reg.predict(X_test)\n",
    "print(mean_squared_error(y_test, pred))\n",
    "print(r2_score(y_test, pred))"
   ]
  },
  {
   "cell_type": "code",
   "execution_count": 290,
   "metadata": {},
   "outputs": [],
   "source": [
    "# for SHIFT_IMPACT_DAYS in list(range(1, 10)):\n",
    "SHIFT_IMPACT_DAYS = 7\n",
    "all_countries_df = None\n",
    "\n",
    "for country in COUNTRIES:\n",
    "    us_shifted_df = df[df['country_region'] == country].copy()\n",
    "\n",
    "    SHIFT_COL_TARGET = 'cases_' + str(SHIFT_IMPACT_DAYS)\n",
    "    us_shifted_df[SHIFT_COL_TARGET] = us_shifted_df['cases'].shift(-SHIFT_IMPACT_DAYS)\n",
    "\n",
    "    for lag in range(1, 11):\n",
    "        SHIFT_COL = f'cases_lag_{lag}_' + str(SHIFT_IMPACT_DAYS)\n",
    "        us_shifted_df[SHIFT_COL] = us_shifted_df[f'cases_lag_{lag}'].shift(-SHIFT_IMPACT_DAYS)\n",
    "\n",
    "    us_shifted_df = us_shifted_df.dropna()\n",
    "    if all_countries_df is None:\n",
    "        all_countries_df = pd.DataFrame(columns = us_shifted_df.columns)\n",
    "    \n",
    "    all_countries_df = all_countries_df.append(us_shifted_df)\n",
    "\n"
   ]
  },
  {
   "cell_type": "code",
   "execution_count": 252,
   "metadata": {},
   "outputs": [
    {
     "output_type": "execute_result",
     "data": {
      "text/plain": "    country_region        date  \\\n850  United States  2020-02-15   \n851  United States  2020-02-16   \n852  United States  2020-02-17   \n853  United States  2020-02-18   \n854  United States  2020-02-19   \n..             ...         ...   \n73          Brazil  2020-04-28   \n74          Brazil  2020-04-29   \n75          Brazil  2020-04-30   \n76          Brazil  2020-05-01   \n77          Brazil  2020-05-02   \n\n     retail_and_recreation_percent_change_from_baseline  \\\n850                                           6.073507    \n851                                           7.348642    \n852                                           3.351574    \n853                                          -0.170090    \n854                                           1.836030    \n..                                                 ...    \n73                                          -49.821429    \n74                                          -49.892857    \n75                                          -44.964286    \n76                                          -70.000000    \n77                                          -55.214286    \n\n     grocery_and_pharmacy_percent_change_from_baseline  \\\n850                                           2.225115   \n851                                           2.333067   \n852                                          -0.296495   \n853                                          -1.094775   \n854                                           0.497663   \n..                                                 ...   \n73                                          -14.607143   \n74                                          -13.464286   \n75                                            1.357143   \n76                                          -35.107143   \n77                                           -6.642857   \n\n     parks_percent_change_from_baseline  \\\n850                            5.158882   \n851                            5.500399   \n852                            6.552217   \n853                            1.335495   \n854                            1.990651   \n..                                  ...   \n73                           -42.678571   \n74                           -40.035714   \n75                           -35.857143   \n76                           -47.428571   \n77                           -49.250000   \n\n     transit_stations_percent_change_from_baseline  \\\n850                                       1.633614   \n851                                       1.421326   \n852                                       0.668455   \n853                                       0.843243   \n854                                       0.935994   \n..                                             ...   \n73                                      -52.607143   \n74                                      -52.071429   \n75                                      -47.964286   \n76                                      -66.500000   \n77                                      -53.642857   \n\n     workplaces_percent_change_from_baseline  \\\n850                                 0.360260   \n851                                 0.386581   \n852                               -17.336910   \n853                                -0.005405   \n854                                 0.869831   \n..                                       ...   \n73                                -30.357143   \n74                                -30.178571   \n75                                -29.500000   \n76                                -62.785714   \n77                                -24.928571   \n\n     residential_percent_change_from_baseline  C1_School closing  \\\n850                                 -0.191041                0.0   \n851                                 -0.217652                0.0   \n852                                  2.294349                0.0   \n853                                  0.455856                0.0   \n854                                  0.102481                0.0   \n..                                        ...                ...   \n73                                  11.892857                3.0   \n74                                  15.035714                3.0   \n75                                  13.035714                3.0   \n76                                  22.500000                3.0   \n77                                  13.464286                3.0   \n\n     C2_Workplace closing  ...  cases_lag_1_7  cases_lag_2_7  cases_lag_3_7  \\\n850                   0.0  ...           15.0           13.0           13.0   \n851                   0.0  ...           15.0           15.0           13.0   \n852                   0.0  ...           15.0           15.0           15.0   \n853                   0.0  ...           51.0           15.0           15.0   \n854                   0.0  ...           51.0           51.0           15.0   \n..                    ...  ...            ...            ...            ...   \n73                    3.0  ...       108620.0       101826.0        97100.0   \n74                    3.0  ...       115455.0       108620.0       101826.0   \n75                    3.0  ...       126611.0       115455.0       108620.0   \n76                    3.0  ...       135773.0       126611.0       115455.0   \n77                    3.0  ...       146894.0       135773.0       126611.0   \n\n     cases_lag_4_7  cases_lag_5_7  cases_lag_6_7  cases_lag_7_7  \\\n850           13.0           13.0           13.0           13.0   \n851           13.0           13.0           13.0           13.0   \n852           13.0           13.0           13.0           13.0   \n853           15.0           13.0           13.0           13.0   \n854           15.0           15.0           13.0           13.0   \n..             ...            ...            ...            ...   \n73         92202.0        87187.0        79685.0        73235.0   \n74         97100.0        92202.0        87187.0        79685.0   \n75        101826.0        97100.0        92202.0        87187.0   \n76        108620.0       101826.0        97100.0        92202.0   \n77        115455.0       108620.0       101826.0        97100.0   \n\n     cases_lag_8_7  cases_lag_9_7  cases_lag_10_7  \n850           13.0           13.0            12.0  \n851           13.0           13.0            13.0  \n852           13.0           13.0            13.0  \n853           13.0           13.0            13.0  \n854           13.0           13.0            13.0  \n..             ...            ...             ...  \n73         67446.0        63100.0         59324.0  \n74         73235.0        67446.0         63100.0  \n75         79685.0        73235.0         67446.0  \n76         87187.0        79685.0         73235.0  \n77         92202.0        87187.0         79685.0  \n\n[858 rows x 55 columns]",
      "text/html": "<div>\n<style scoped>\n    .dataframe tbody tr th:only-of-type {\n        vertical-align: middle;\n    }\n\n    .dataframe tbody tr th {\n        vertical-align: top;\n    }\n\n    .dataframe thead th {\n        text-align: right;\n    }\n</style>\n<table border=\"1\" class=\"dataframe\">\n  <thead>\n    <tr style=\"text-align: right;\">\n      <th></th>\n      <th>country_region</th>\n      <th>date</th>\n      <th>retail_and_recreation_percent_change_from_baseline</th>\n      <th>grocery_and_pharmacy_percent_change_from_baseline</th>\n      <th>parks_percent_change_from_baseline</th>\n      <th>transit_stations_percent_change_from_baseline</th>\n      <th>workplaces_percent_change_from_baseline</th>\n      <th>residential_percent_change_from_baseline</th>\n      <th>C1_School closing</th>\n      <th>C2_Workplace closing</th>\n      <th>...</th>\n      <th>cases_lag_1_7</th>\n      <th>cases_lag_2_7</th>\n      <th>cases_lag_3_7</th>\n      <th>cases_lag_4_7</th>\n      <th>cases_lag_5_7</th>\n      <th>cases_lag_6_7</th>\n      <th>cases_lag_7_7</th>\n      <th>cases_lag_8_7</th>\n      <th>cases_lag_9_7</th>\n      <th>cases_lag_10_7</th>\n    </tr>\n  </thead>\n  <tbody>\n    <tr>\n      <th>850</th>\n      <td>United States</td>\n      <td>2020-02-15</td>\n      <td>6.073507</td>\n      <td>2.225115</td>\n      <td>5.158882</td>\n      <td>1.633614</td>\n      <td>0.360260</td>\n      <td>-0.191041</td>\n      <td>0.0</td>\n      <td>0.0</td>\n      <td>...</td>\n      <td>15.0</td>\n      <td>13.0</td>\n      <td>13.0</td>\n      <td>13.0</td>\n      <td>13.0</td>\n      <td>13.0</td>\n      <td>13.0</td>\n      <td>13.0</td>\n      <td>13.0</td>\n      <td>12.0</td>\n    </tr>\n    <tr>\n      <th>851</th>\n      <td>United States</td>\n      <td>2020-02-16</td>\n      <td>7.348642</td>\n      <td>2.333067</td>\n      <td>5.500399</td>\n      <td>1.421326</td>\n      <td>0.386581</td>\n      <td>-0.217652</td>\n      <td>0.0</td>\n      <td>0.0</td>\n      <td>...</td>\n      <td>15.0</td>\n      <td>15.0</td>\n      <td>13.0</td>\n      <td>13.0</td>\n      <td>13.0</td>\n      <td>13.0</td>\n      <td>13.0</td>\n      <td>13.0</td>\n      <td>13.0</td>\n      <td>13.0</td>\n    </tr>\n    <tr>\n      <th>852</th>\n      <td>United States</td>\n      <td>2020-02-17</td>\n      <td>3.351574</td>\n      <td>-0.296495</td>\n      <td>6.552217</td>\n      <td>0.668455</td>\n      <td>-17.336910</td>\n      <td>2.294349</td>\n      <td>0.0</td>\n      <td>0.0</td>\n      <td>...</td>\n      <td>15.0</td>\n      <td>15.0</td>\n      <td>15.0</td>\n      <td>13.0</td>\n      <td>13.0</td>\n      <td>13.0</td>\n      <td>13.0</td>\n      <td>13.0</td>\n      <td>13.0</td>\n      <td>13.0</td>\n    </tr>\n    <tr>\n      <th>853</th>\n      <td>United States</td>\n      <td>2020-02-18</td>\n      <td>-0.170090</td>\n      <td>-1.094775</td>\n      <td>1.335495</td>\n      <td>0.843243</td>\n      <td>-0.005405</td>\n      <td>0.455856</td>\n      <td>0.0</td>\n      <td>0.0</td>\n      <td>...</td>\n      <td>51.0</td>\n      <td>15.0</td>\n      <td>15.0</td>\n      <td>15.0</td>\n      <td>13.0</td>\n      <td>13.0</td>\n      <td>13.0</td>\n      <td>13.0</td>\n      <td>13.0</td>\n      <td>13.0</td>\n    </tr>\n    <tr>\n      <th>854</th>\n      <td>United States</td>\n      <td>2020-02-19</td>\n      <td>1.836030</td>\n      <td>0.497663</td>\n      <td>1.990651</td>\n      <td>0.935994</td>\n      <td>0.869831</td>\n      <td>0.102481</td>\n      <td>0.0</td>\n      <td>0.0</td>\n      <td>...</td>\n      <td>51.0</td>\n      <td>51.0</td>\n      <td>15.0</td>\n      <td>15.0</td>\n      <td>15.0</td>\n      <td>13.0</td>\n      <td>13.0</td>\n      <td>13.0</td>\n      <td>13.0</td>\n      <td>13.0</td>\n    </tr>\n    <tr>\n      <th>...</th>\n      <td>...</td>\n      <td>...</td>\n      <td>...</td>\n      <td>...</td>\n      <td>...</td>\n      <td>...</td>\n      <td>...</td>\n      <td>...</td>\n      <td>...</td>\n      <td>...</td>\n      <td>...</td>\n      <td>...</td>\n      <td>...</td>\n      <td>...</td>\n      <td>...</td>\n      <td>...</td>\n      <td>...</td>\n      <td>...</td>\n      <td>...</td>\n      <td>...</td>\n      <td>...</td>\n    </tr>\n    <tr>\n      <th>73</th>\n      <td>Brazil</td>\n      <td>2020-04-28</td>\n      <td>-49.821429</td>\n      <td>-14.607143</td>\n      <td>-42.678571</td>\n      <td>-52.607143</td>\n      <td>-30.357143</td>\n      <td>11.892857</td>\n      <td>3.0</td>\n      <td>3.0</td>\n      <td>...</td>\n      <td>108620.0</td>\n      <td>101826.0</td>\n      <td>97100.0</td>\n      <td>92202.0</td>\n      <td>87187.0</td>\n      <td>79685.0</td>\n      <td>73235.0</td>\n      <td>67446.0</td>\n      <td>63100.0</td>\n      <td>59324.0</td>\n    </tr>\n    <tr>\n      <th>74</th>\n      <td>Brazil</td>\n      <td>2020-04-29</td>\n      <td>-49.892857</td>\n      <td>-13.464286</td>\n      <td>-40.035714</td>\n      <td>-52.071429</td>\n      <td>-30.178571</td>\n      <td>15.035714</td>\n      <td>3.0</td>\n      <td>3.0</td>\n      <td>...</td>\n      <td>115455.0</td>\n      <td>108620.0</td>\n      <td>101826.0</td>\n      <td>97100.0</td>\n      <td>92202.0</td>\n      <td>87187.0</td>\n      <td>79685.0</td>\n      <td>73235.0</td>\n      <td>67446.0</td>\n      <td>63100.0</td>\n    </tr>\n    <tr>\n      <th>75</th>\n      <td>Brazil</td>\n      <td>2020-04-30</td>\n      <td>-44.964286</td>\n      <td>1.357143</td>\n      <td>-35.857143</td>\n      <td>-47.964286</td>\n      <td>-29.500000</td>\n      <td>13.035714</td>\n      <td>3.0</td>\n      <td>3.0</td>\n      <td>...</td>\n      <td>126611.0</td>\n      <td>115455.0</td>\n      <td>108620.0</td>\n      <td>101826.0</td>\n      <td>97100.0</td>\n      <td>92202.0</td>\n      <td>87187.0</td>\n      <td>79685.0</td>\n      <td>73235.0</td>\n      <td>67446.0</td>\n    </tr>\n    <tr>\n      <th>76</th>\n      <td>Brazil</td>\n      <td>2020-05-01</td>\n      <td>-70.000000</td>\n      <td>-35.107143</td>\n      <td>-47.428571</td>\n      <td>-66.500000</td>\n      <td>-62.785714</td>\n      <td>22.500000</td>\n      <td>3.0</td>\n      <td>3.0</td>\n      <td>...</td>\n      <td>135773.0</td>\n      <td>126611.0</td>\n      <td>115455.0</td>\n      <td>108620.0</td>\n      <td>101826.0</td>\n      <td>97100.0</td>\n      <td>92202.0</td>\n      <td>87187.0</td>\n      <td>79685.0</td>\n      <td>73235.0</td>\n    </tr>\n    <tr>\n      <th>77</th>\n      <td>Brazil</td>\n      <td>2020-05-02</td>\n      <td>-55.214286</td>\n      <td>-6.642857</td>\n      <td>-49.250000</td>\n      <td>-53.642857</td>\n      <td>-24.928571</td>\n      <td>13.464286</td>\n      <td>3.0</td>\n      <td>3.0</td>\n      <td>...</td>\n      <td>146894.0</td>\n      <td>135773.0</td>\n      <td>126611.0</td>\n      <td>115455.0</td>\n      <td>108620.0</td>\n      <td>101826.0</td>\n      <td>97100.0</td>\n      <td>92202.0</td>\n      <td>87187.0</td>\n      <td>79685.0</td>\n    </tr>\n  </tbody>\n</table>\n<p>858 rows × 55 columns</p>\n</div>"
     },
     "metadata": {},
     "execution_count": 252
    }
   ],
   "source": [
    "all_countries_df"
   ]
  },
  {
   "cell_type": "code",
   "execution_count": 291,
   "metadata": {},
   "outputs": [
    {
     "output_type": "stream",
     "name": "stdout",
     "text": "0.9261086445364369\n9114673334.888098\n0.9134910822801653\n"
    }
   ],
   "source": [
    "us_shifted_df = all_countries_df\n",
    "train_subset = us_shifted_df[us_shifted_df['date'] <= '2020-04-20']\n",
    "test_subset = us_shifted_df[us_shifted_df['date'] > '2020-04-20']\n",
    "\n",
    "X_train = train_subset[TRAIN_COLUMNS]\n",
    "y_train = train_subset[SHIFT_COL_TARGET]\n",
    "X_test = test_subset[TRAIN_COLUMNS]\n",
    "y_test = test_subset[SHIFT_COL_TARGET]\n",
    "\n",
    "scaler = preprocessing.StandardScaler().fit(X_train)\n",
    "X_train = scaler.transform(X_train)\n",
    "X_test = scaler.transform(X_test)\n",
    "\n",
    "reg = LinearRegression().fit(X_train, y_train)\n",
    "print(reg.score(X_train, y_train))\n",
    "pred = reg.predict(X_test)\n",
    "print(mean_squared_error(y_test, pred))\n",
    "print(r2_score(y_test, pred))"
   ]
  },
  {
   "cell_type": "code",
   "execution_count": 292,
   "metadata": {},
   "outputs": [
    {
     "output_type": "execute_result",
     "data": {
      "text/plain": "array([-40490.54111325,   2554.89836447, -12132.38021767,  88543.93516332,\n       -33479.5313492 , -10845.47173214,  17576.34312071,   6793.97324472,\n         9278.77582011, -10154.34699466,  13560.57243996,  27502.00772936,\n        18331.47162238,   8521.78410728,  21635.62692816, -12845.69917955,\n         8563.21406603,   5201.08576142,    194.13627545, -65791.52903132,\n       105282.90539741])"
     },
     "metadata": {},
     "execution_count": 292
    }
   ],
   "source": [
    "reg.coef_"
   ]
  },
  {
   "cell_type": "code",
   "execution_count": 293,
   "metadata": {},
   "outputs": [
    {
     "output_type": "stream",
     "name": "stdout",
     "text": "0.9987491611776762\n728364496.0690948\n0.9937625675445343\n"
    }
   ],
   "source": [
    "train_subset = us_shifted_df[us_shifted_df['date'] <= '2020-04-25']\n",
    "test_subset = us_shifted_df[us_shifted_df['date'] > '2020-04-25']\n",
    "\n",
    "X_train = train_subset[TRAIN_COLUMNS]\n",
    "y_train = train_subset[SHIFT_COL_TARGET]\n",
    "X_test = test_subset[TRAIN_COLUMNS]\n",
    "y_test = test_subset[SHIFT_COL_TARGET]\n",
    "\n",
    "poly = PolynomialFeatures(3)\n",
    "\n",
    "X_train_poly = poly.fit_transform(X_train)\n",
    "scaler = preprocessing.StandardScaler().fit(X_train_poly)\n",
    "\n",
    "X_train_poly = scaler.transform(X_train_poly)\n",
    "X_test_poly = scaler.transform(poly.fit_transform(X_test))\n",
    "\n",
    "# reg = LinearRegression().fit(X_train_poly, y_train)\n",
    "reg = Ridge(alpha = 10).fit(X_train_poly, y_train)\n",
    "print(reg.score(X_train_poly, y_train))\n",
    "pred = reg.predict(X_test_poly)\n",
    "print(mean_squared_error(y_test, pred))\n",
    "print(r2_score(y_test, pred))"
   ]
  },
  {
   "cell_type": "code",
   "execution_count": 294,
   "metadata": {},
   "outputs": [
    {
     "output_type": "execute_result",
     "data": {
      "text/plain": "921    1158040.0\n922    1180375.0\n923    1204351.0\n924    1229331.0\n925    1257023.0\n         ...    \n73      115455.0\n74      126611.0\n75      135773.0\n76      146894.0\n77      156061.0\nName: cases_7, Length: 77, dtype: float64"
     },
     "metadata": {},
     "execution_count": 294
    }
   ],
   "source": [
    "y_test"
   ]
  },
  {
   "cell_type": "code",
   "execution_count": 295,
   "metadata": {},
   "outputs": [
    {
     "output_type": "execute_result",
     "data": {
      "text/plain": "[1106032.1070010227,\n 1123928.3145641827,\n 1192156.6899890723,\n 1176930.0210366792,\n 1189612.7830159143,\n 1250585.5207892319,\n 1338759.9080732665,\n 36824.531482654136,\n 37149.41780008577,\n 46251.36220915321,\n 47065.42837406152,\n 48096.311542702635,\n 48428.48905767579,\n 51396.580209768545,\n 211362.91297518087,\n 221345.12542223465,\n 223276.57989380835,\n 226284.32922910978,\n 227160.91211140144,\n 208350.92063849006,\n 233694.39249667237,\n 3041.519207879006,\n 10159.908588534738,\n 24424.10649666265,\n 19255.765961842284,\n 17995.61985267148,\n 15047.079899205331,\n 33492.550623664996,\n 215720.87216583046,\n 220085.26265456443,\n 223596.9822428415,\n 220857.24293048534,\n 223151.84736283222,\n 218083.36328734187,\n 243769.69831578343,\n 35575.71906261453,\n 40789.87186846683,\n 42092.487973292664,\n 41761.43317197379,\n 42423.16718727601,\n 59079.64566664244,\n 6101.73669924905,\n 7434.701699798017,\n 4783.64669766483,\n 7228.868808828243,\n 4915.0718498113565,\n 3710.9453929451265,\n 1751.6666388729864,\n 4208.414192264092,\n 806.0621344968022,\n 1020.933801413812,\n 178.72769534913095,\n 1530.7194352954903,\n 3260.2517438275318,\n -1540.6999494747797,\n 2835.4940567931408,\n 21871.18903135648,\n 14969.777119885737,\n 14021.05779239654,\n 19486.924312239324,\n 14696.057709722481,\n 16259.141714261226,\n 22168.81484719365,\n 165696.84278817865,\n 172261.9782296558,\n 179823.14810971517,\n 185206.11353089073,\n 184951.4726029159,\n 323913.86513268464,\n 182790.19734569552,\n 100434.52855458588,\n 105254.94054172737,\n 110746.80717598181,\n 115137.68211312001,\n 117202.26386732506,\n 139223.5671496587,\n 131945.44743968488]"
     },
     "metadata": {},
     "execution_count": 295
    }
   ],
   "source": [
    "list(pred)"
   ]
  },
  {
   "cell_type": "code",
   "execution_count": null,
   "metadata": {},
   "outputs": [],
   "source": []
  }
 ],
 "metadata": {
  "language_info": {
   "codemirror_mode": {
    "name": "ipython",
    "version": 3
   },
   "file_extension": ".py",
   "mimetype": "text/x-python",
   "name": "python",
   "nbconvert_exporter": "python",
   "pygments_lexer": "ipython3",
   "version": "3.7.7-final"
  },
  "orig_nbformat": 2,
  "kernelspec": {
   "name": "python37364bitbaseconda5256b649568d47b0ada5f4982042f9e1",
   "display_name": "Python 3.7.3 64-bit ('base': conda)"
  }
 },
 "nbformat": 4,
 "nbformat_minor": 2
}