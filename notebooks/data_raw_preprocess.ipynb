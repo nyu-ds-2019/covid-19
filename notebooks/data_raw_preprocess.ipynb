{
 "cells": [
  {
   "cell_type": "code",
   "execution_count": 1,
   "metadata": {},
   "outputs": [],
   "source": [
    "import numpy as np\n",
    "import pandas as pd\n",
    "\n",
    "app_dir = '/Users/nikhilvs/repos/nyu/covid-19'\n",
    "COUNTRIES = [\n",
    "    'United States', \n",
    "    'India', \n",
    "    'Italy', \n",
    "    'Canada', \n",
    "    'Spain', \n",
    "    'France', \n",
    "    'United Kingdom',\n",
    "    'Iraq',\n",
    "    'Japan',\n",
    "    'South Korea',\n",
    "    'Germany',\n",
    "    'Brazil'\n",
    "]"
   ]
  },
  {
   "cell_type": "code",
   "execution_count": 2,
   "metadata": {},
   "outputs": [],
   "source": [
    "google_mobility_raw_df = pd.read_csv(os.path.join(app_dir, 'data/raw/google', 'Global_Mobility_Report.csv'))\n"
   ]
  },
  {
   "cell_type": "code",
   "execution_count": 3,
   "metadata": {},
   "outputs": [
    {
     "output_type": "execute_result",
     "data": {
      "text/plain": "False"
     },
     "metadata": {},
     "execution_count": 3
    }
   ],
   "source": [
    "google_mobility_raw_df['date'].isnull().values.any()"
   ]
  },
  {
   "cell_type": "code",
   "execution_count": 4,
   "metadata": {},
   "outputs": [],
   "source": [
    "MOBILITY_COLUMNS_TO_KEEP = [\n",
    "    'country_region', \n",
    "    'date', \n",
    "    'retail_and_recreation_percent_change_from_baseline',\n",
    "    'grocery_and_pharmacy_percent_change_from_baseline',\n",
    "    'parks_percent_change_from_baseline',\n",
    "    'transit_stations_percent_change_from_baseline',\n",
    "    'workplaces_percent_change_from_baseline',\n",
    "    'residential_percent_change_from_baseline'\n",
    "]"
   ]
  },
  {
   "cell_type": "code",
   "execution_count": 5,
   "metadata": {},
   "outputs": [],
   "source": [
    "countries_mobility_df = google_mobility_raw_df[google_mobility_raw_df['country_region'].isin(COUNTRIES)][MOBILITY_COLUMNS_TO_KEEP]\n"
   ]
  },
  {
   "cell_type": "code",
   "execution_count": 6,
   "metadata": {},
   "outputs": [
    {
     "output_type": "execute_result",
     "data": {
      "text/plain": "country_region                                        259077\ndate                                                  259077\nretail_and_recreation_percent_change_from_baseline    202056\ngrocery_and_pharmacy_percent_change_from_baseline     195007\nparks_percent_change_from_baseline                     86859\ntransit_stations_percent_change_from_baseline         118406\nworkplaces_percent_change_from_baseline               249088\nresidential_percent_change_from_baseline              130902\ndtype: int64"
     },
     "metadata": {},
     "execution_count": 6
    }
   ],
   "source": [
    "countries_mobility_df.count()"
   ]
  },
  {
   "cell_type": "code",
   "execution_count": 7,
   "metadata": {},
   "outputs": [],
   "source": [
    "countries_mobility_df['retail_and_recreation_percent_change_from_baseline'].fillna(0.0, inplace = True)\n",
    "countries_mobility_df['grocery_and_pharmacy_percent_change_from_baseline'].fillna(0.0, inplace = True)\n",
    "countries_mobility_df['parks_percent_change_from_baseline'].fillna(0.0, inplace = True)\n",
    "countries_mobility_df['transit_stations_percent_change_from_baseline'].fillna(0.0, inplace = True)\n",
    "countries_mobility_df['workplaces_percent_change_from_baseline'].fillna(0.0, inplace = True)\n",
    "countries_mobility_df['residential_percent_change_from_baseline'].fillna(0.0, inplace = True)"
   ]
  },
  {
   "cell_type": "code",
   "execution_count": 22,
   "metadata": {},
   "outputs": [],
   "source": [
    "countries_mobility_df_agg = countries_mobility_df.groupby(['country_region', 'date']).mean()\n",
    "countries_mobility_df_agg.to_csv(os.path.join(app_dir, 'data/staging', 'google_mobility.csv'))"
   ]
  },
  {
   "cell_type": "code",
   "execution_count": 9,
   "metadata": {},
   "outputs": [],
   "source": [
    "oxford_stringency_df = pd.read_csv(os.path.join(app_dir, 'data/raw/oxford', 'OxCGRT_latest.csv'))"
   ]
  },
  {
   "cell_type": "code",
   "execution_count": 10,
   "metadata": {},
   "outputs": [
    {
     "output_type": "execute_result",
     "data": {
      "text/plain": "CountryName                              22563\nCountryCode                              22563\nDate                                     22563\nC1_School closing                        21783\nC1_Flag                                   9701\nC2_Workplace closing                     21543\nC2_Flag                                   8167\nC3_Cancel public events                  21453\nC3_Flag                                   9758\nC4_Restrictions on gatherings            21447\nC4_Flag                                   8419\nC5_Close public transport                21382\nC5_Flag                                   6354\nC6_Stay at home requirements             21295\nC6_Flag                                   7458\nC7_Restrictions on internal movement     21587\nC7_Flag                                   7853\nC8_International travel controls         21702\nE1_Income support                        20828\nE1_Flag                                   4112\nE2_Debt/contract relief                  20806\nE3_Fiscal measures                       20171\nE4_International support                 19931\nH1_Public information campaigns          21493\nH1_Flag                                  13602\nH2_Testing policy                        20985\nH3_Contact tracing                       21079\nH4_Emergency investment in healthcare    20615\nH5_Investment in vaccines                20654\nM1_Wildcard                                  0\nConfirmedCases                           14449\nConfirmedDeaths                          14449\nStringencyIndex                          21163\nStringencyIndexForDisplay                21805\nLegacyStringencyIndex                    21452\nLegacyStringencyIndexForDisplay          22093\ndtype: int64"
     },
     "metadata": {},
     "execution_count": 10
    }
   ],
   "source": [
    "oxford_stringency_df.count()"
   ]
  },
  {
   "cell_type": "code",
   "execution_count": 11,
   "metadata": {},
   "outputs": [],
   "source": [
    "STRINGENCY_COLUMNS_TO_KEEP = [\n",
    "    'CountryName',\n",
    "    'Date',\n",
    "    'C1_School closing',\n",
    "    # 'C1_Flag',\n",
    "    'C2_Workplace closing',\n",
    "    # 'C2_Flag',\n",
    "    'C3_Cancel public events',\n",
    "    # 'C3_Flag',\n",
    "    'C4_Restrictions on gatherings',\n",
    "    # 'C4_Flag',\n",
    "    'C5_Close public transport',\n",
    "    # 'C5_Flag',\n",
    "    'C6_Stay at home requirements',\n",
    "    # 'C6_Flag',\n",
    "    'C7_Restrictions on internal movement',\n",
    "    # 'C7_Flag',\n",
    "    'C8_International travel controls',\n",
    "    'E1_Income support',\n",
    "    # 'E1_Flag',\n",
    "    'E2_Debt/contract relief',\n",
    "    # 'E3_Fiscal measures',\n",
    "    # 'E4_International support',\n",
    "    'H1_Public information campaigns',\n",
    "    # 'H1_Flag',\n",
    "    'H2_Testing policy',\n",
    "    'H3_Contact tracing',\n",
    "    # 'H4_Emergency investment in healthcare',\n",
    "    # 'H5_Investment in vaccines',\n",
    "    'StringencyIndex'\n",
    "]"
   ]
  },
  {
   "cell_type": "code",
   "execution_count": 12,
   "metadata": {},
   "outputs": [],
   "source": [
    "countries_stringency_df = oxford_stringency_df[oxford_stringency_df['CountryName'].isin(COUNTRIES)][STRINGENCY_COLUMNS_TO_KEEP]\n",
    "countries_stringency_df['Date'] = countries_stringency_df['Date'].transform(lambda d: str(d)[0:4] + '-' + str(d)[4:6] + '-' + str(d)[6:])\n",
    "countries_stringency_df.fillna(0.0, inplace = True)\n",
    "countries_stringency_df.to_csv(os.path.join(app_dir, 'data/processed', 'oxford_stringency.csv'))"
   ]
  },
  {
   "cell_type": "code",
   "execution_count": 13,
   "metadata": {},
   "outputs": [
    {
     "output_type": "execute_result",
     "data": {
      "text/plain": "CountryName                             1632\nDate                                    1632\nC1_School closing                       1632\nC2_Workplace closing                    1632\nC3_Cancel public events                 1632\nC4_Restrictions on gatherings           1632\nC5_Close public transport               1632\nC6_Stay at home requirements            1632\nC7_Restrictions on internal movement    1632\nC8_International travel controls        1632\nE1_Income support                       1632\nE2_Debt/contract relief                 1632\nH1_Public information campaigns         1632\nH2_Testing policy                       1632\nH3_Contact tracing                      1632\nStringencyIndex                         1632\ndtype: int64"
     },
     "metadata": {},
     "execution_count": 13
    }
   ],
   "source": [
    "countries_stringency_df.count()"
   ]
  },
  {
   "cell_type": "code",
   "execution_count": 16,
   "metadata": {},
   "outputs": [],
   "source": [
    "\n",
    "jhu_cases_raw_df = pd.read_csv(os.path.join(app_dir, 'data/raw/jhu', 'time_series_covid19_confirmed_global.csv'))\n",
    "countries_metrics_df = jhu_cases_raw_df.drop(columns = ['Province/State', 'Lat', 'Long'])\n",
    "countries_metrics_df['Country/Region'] = countries_metrics_df['Country/Region'].replace('US', 'United States')\n",
    "\n",
    "all_countries_metrics_df = pd.DataFrame(columns = ['country', 'date', 'cases'])\n",
    "\n",
    "for country in COUNTRIES:\n",
    "    transposed_df = countries_metrics_df[countries_metrics_df['Country/Region'] == country].drop(columns = ['Country/Region']).transpose()\n",
    "    num_cols = len(transposed_df.columns)\n",
    "    num_rows = transposed_df.shape[0]\n",
    "\n",
    "    if num_rows == 0 or num_cols == 0:\n",
    "        continue\n",
    "\n",
    "    value_col_name = transposed_df.columns[0]\n",
    "\n",
    "    country_series = pd.Series([country] * num_rows)\n",
    "    dates_series = pd.to_datetime(pd.Series(transposed_df.index))\n",
    "    value_series = transposed_df[value_col_name].reset_index()[value_col_name]\n",
    "    \n",
    "    country_df = pd.DataFrame({\n",
    "        'country': country_series,\n",
    "        'date': dates_series,\n",
    "        'cases': value_series\n",
    "    })\n",
    "\n",
    "    all_countries_metrics_df = all_countries_metrics_df.append(country_df, ignore_index = True)\n",
    "\n",
    "all_countries_metrics_df.to_csv(os.path.join(app_dir, 'data/staging', 'jhu_cases.csv'), index = False)"
   ]
  },
  {
   "cell_type": "code",
   "execution_count": 17,
   "metadata": {},
   "outputs": [],
   "source": [
    "\n",
    "jhu_deaths_raw_df = pd.read_csv(os.path.join(app_dir, 'data/raw/jhu', 'time_series_covid19_deaths_global.csv'))\n",
    "countries_metrics_df = jhu_deaths_raw_df.drop(columns = ['Province/State', 'Lat', 'Long'])\n",
    "countries_metrics_df['Country/Region'] = countries_metrics_df['Country/Region'].replace('US', 'United States')\n",
    "\n",
    "all_countries_metrics_df = pd.DataFrame(columns = ['country', 'date', 'deaths'])\n",
    "\n",
    "for country in COUNTRIES:\n",
    "    transposed_df = countries_metrics_df[countries_metrics_df['Country/Region'] == country].drop(columns = ['Country/Region']).transpose()\n",
    "    num_cols = len(transposed_df.columns)\n",
    "    num_rows = transposed_df.shape[0]\n",
    "\n",
    "    if num_rows == 0 or num_cols == 0:\n",
    "        continue\n",
    "\n",
    "    value_col_name = transposed_df.columns[0]\n",
    "\n",
    "    country_series = pd.Series([country] * num_rows)\n",
    "    dates_series = pd.to_datetime(pd.Series(transposed_df.index))\n",
    "    value_series = transposed_df[value_col_name].reset_index()[value_col_name]\n",
    "    \n",
    "    country_df = pd.DataFrame({\n",
    "        'country': country_series,\n",
    "        'date': dates_series,\n",
    "        'deaths': value_series\n",
    "    })\n",
    "\n",
    "    all_countries_metrics_df = all_countries_metrics_df.append(country_df, ignore_index = True)\n",
    "\n",
    "all_countries_metrics_df.to_csv(os.path.join(app_dir, 'data/staging', 'jhu_deaths.csv'), index = False)"
   ]
  },
  {
   "cell_type": "code",
   "execution_count": 18,
   "metadata": {},
   "outputs": [],
   "source": [
    "\n",
    "jhu_recovered_raw_df = pd.read_csv(os.path.join(app_dir, 'data/raw/jhu', 'time_series_covid19_recovered_global.csv'))\n",
    "countries_metrics_df = jhu_recovered_raw_df.drop(columns = ['Province/State', 'Lat', 'Long'])\n",
    "countries_metrics_df['Country/Region'] = countries_metrics_df['Country/Region'].replace('US', 'United States')\n",
    "\n",
    "all_countries_metrics_df = pd.DataFrame(columns = ['country', 'date', 'recovered'])\n",
    "\n",
    "for country in COUNTRIES:\n",
    "    transposed_df = countries_metrics_df[countries_metrics_df['Country/Region'] == country].drop(columns = ['Country/Region']).transpose()\n",
    "    num_cols = len(transposed_df.columns)\n",
    "    num_rows = transposed_df.shape[0]\n",
    "\n",
    "    if num_rows == 0 or num_cols == 0:\n",
    "        continue\n",
    "\n",
    "    value_col_name = transposed_df.columns[0]\n",
    "\n",
    "    country_series = pd.Series([country] * num_rows)\n",
    "    dates_series = pd.to_datetime(pd.Series(transposed_df.index))\n",
    "    value_series = transposed_df[value_col_name].reset_index()[value_col_name]\n",
    "    \n",
    "    country_df = pd.DataFrame({\n",
    "        'country': country_series,\n",
    "        'date': dates_series,\n",
    "        'recovered': value_series\n",
    "    })\n",
    "\n",
    "    all_countries_metrics_df = all_countries_metrics_df.append(country_df, ignore_index = True)\n",
    "\n",
    "all_countries_metrics_df.to_csv(os.path.join(app_dir, 'data/staging', 'jhu_recovered.csv'), index = False)"
   ]
  },
  {
   "cell_type": "code",
   "execution_count": 19,
   "metadata": {},
   "outputs": [],
   "source": [
    "google_mobility_df = pd.read_csv(os.path.join(app_dir, 'data/processed', 'google_mobility.csv'))\n",
    "oxford_stringency_df = pd.read_csv(os.path.join(app_dir, 'data/processed', 'oxford_stringency.csv'))\n",
    "jhu_cases_df = pd.read_csv(os.path.join(app_dir, 'data/processed', 'jhu_cases.csv'))\n",
    "jhu_deaths_df = pd.read_csv(os.path.join(app_dir, 'data/processed', 'jhu_deaths.csv'))\n",
    "jhu_recovered_df = pd.read_csv(os.path.join(app_dir, 'data/processed', 'jhu_recovered.csv'))"
   ]
  },
  {
   "cell_type": "code",
   "execution_count": 20,
   "metadata": {},
   "outputs": [],
   "source": [
    "unified_df = google_mobility_df.merge(\n",
    "    oxford_stringency_df,\n",
    "    how = 'inner',\n",
    "    left_on = ['country_region', 'date'],\n",
    "    right_on = ['CountryName', 'Date']\n",
    ").merge(\n",
    "    jhu_cases_df,\n",
    "    how = 'inner',\n",
    "    left_on = ['country_region', 'date'],\n",
    "    right_on = ['country', 'date']\n",
    ").merge(\n",
    "    jhu_deaths_df,\n",
    "    how = 'inner',\n",
    "    left_on = ['country_region', 'date'],\n",
    "    right_on = ['country', 'date']\n",
    ").merge(\n",
    "    jhu_recovered_df,\n",
    "    how = 'inner',\n",
    "    left_on = ['country_region', 'date'],\n",
    "    right_on = ['country', 'date']\n",
    ")[[\n",
    "    'country_region',\n",
    "    'date',\n",
    "    'retail_and_recreation_percent_change_from_baseline',\n",
    "    'grocery_and_pharmacy_percent_change_from_baseline',\n",
    "    'parks_percent_change_from_baseline',\n",
    "    'transit_stations_percent_change_from_baseline',\n",
    "    'workplaces_percent_change_from_baseline',\n",
    "    'residential_percent_change_from_baseline',\n",
    "    'C1_School closing',\n",
    "    'C2_Workplace closing',\n",
    "    'C3_Cancel public events',\n",
    "    'C4_Restrictions on gatherings',\n",
    "    'C5_Close public transport',\n",
    "    'C6_Stay at home requirements',\n",
    "    'C7_Restrictions on internal movement',\n",
    "    'C8_International travel controls',\n",
    "    'E1_Income support',\n",
    "    'E2_Debt/contract relief',\n",
    "    'H1_Public information campaigns',\n",
    "    'H2_Testing policy',\n",
    "    'H3_Contact tracing',\n",
    "    'StringencyIndex',\n",
    "    'cases',\n",
    "    'deaths',\n",
    "    'recovered'\n",
    "]]"
   ]
  },
  {
   "cell_type": "code",
   "execution_count": 21,
   "metadata": {},
   "outputs": [],
   "source": [
    "unified_df.to_csv(os.path.join(app_dir, 'data/staging', 'unified.csv'), index = False)"
   ]
  },
  {
   "cell_type": "code",
   "execution_count": null,
   "metadata": {},
   "outputs": [],
   "source": []
  },
  {
   "cell_type": "code",
   "execution_count": null,
   "metadata": {},
   "outputs": [],
   "source": []
  }
 ],
 "metadata": {
  "language_info": {
   "codemirror_mode": {
    "name": "ipython",
    "version": 3
   },
   "file_extension": ".py",
   "mimetype": "text/x-python",
   "name": "python",
   "nbconvert_exporter": "python",
   "pygments_lexer": "ipython3",
   "version": "3.7.7-final"
  },
  "orig_nbformat": 2,
  "kernelspec": {
   "name": "python37364bitbaseconda5256b649568d47b0ada5f4982042f9e1",
   "display_name": "Python 3.7.3 64-bit ('base': conda)"
  }
 },
 "nbformat": 4,
 "nbformat_minor": 2
}