{
 "cells": [
  {
   "cell_type": "code",
   "execution_count": 23,
   "metadata": {},
   "outputs": [],
   "source": [
    "import numpy as np\n",
    "import pandas as pd\n",
    "\n",
    "app_dir = '/Users/nikhilvs/repos/nyu/covid-19'\n",
    "COUNTRIES = [\n",
    "    'United States', \n",
    "    'India', \n",
    "    'Italy', \n",
    "    'Canada', \n",
    "    'Spain', \n",
    "    'France', \n",
    "    'United Kingdom',\n",
    "    'Iraq',\n",
    "    'Japan',\n",
    "    'South Korea',\n",
    "    'Germany',\n",
    "    'Brazil'\n",
    "]"
   ]
  },
  {
   "cell_type": "code",
   "execution_count": 24,
   "metadata": {},
   "outputs": [],
   "source": [
    "google_mobility_raw_df = pd.read_csv(os.path.join(app_dir, 'data/raw/google', 'Global_Mobility_Report.csv'))\n"
   ]
  },
  {
   "cell_type": "code",
   "execution_count": 25,
   "metadata": {},
   "outputs": [
    {
     "output_type": "execute_result",
     "data": {
      "text/plain": "False"
     },
     "metadata": {},
     "execution_count": 25
    }
   ],
   "source": [
    "google_mobility_raw_df['date'].isnull().values.any()"
   ]
  },
  {
   "cell_type": "code",
   "execution_count": 26,
   "metadata": {},
   "outputs": [],
   "source": [
    "MOBILITY_COLUMNS_TO_KEEP = [\n",
    "    'country_region', \n",
    "    'date', \n",
    "    'retail_and_recreation_percent_change_from_baseline',\n",
    "    'grocery_and_pharmacy_percent_change_from_baseline',\n",
    "    'parks_percent_change_from_baseline',\n",
    "    'transit_stations_percent_change_from_baseline',\n",
    "    'workplaces_percent_change_from_baseline',\n",
    "    'residential_percent_change_from_baseline'\n",
    "]"
   ]
  },
  {
   "cell_type": "code",
   "execution_count": 27,
   "metadata": {},
   "outputs": [],
   "source": [
    "countries_mobility_df = google_mobility_raw_df[google_mobility_raw_df['country_region'].isin(COUNTRIES)][MOBILITY_COLUMNS_TO_KEEP]\n"
   ]
  },
  {
   "cell_type": "code",
   "execution_count": 28,
   "metadata": {},
   "outputs": [
    {
     "output_type": "execute_result",
     "data": {
      "text/plain": "country_region                                        259077\ndate                                                  259077\nretail_and_recreation_percent_change_from_baseline    202056\ngrocery_and_pharmacy_percent_change_from_baseline     195007\nparks_percent_change_from_baseline                     86859\ntransit_stations_percent_change_from_baseline         118406\nworkplaces_percent_change_from_baseline               249088\nresidential_percent_change_from_baseline              130902\ndtype: int64"
     },
     "metadata": {},
     "execution_count": 28
    }
   ],
   "source": [
    "countries_mobility_df.count()"
   ]
  },
  {
   "cell_type": "code",
   "execution_count": 7,
   "metadata": {},
   "outputs": [],
   "source": [
    "countries_mobility_df['retail_and_recreation_percent_change_from_baseline'].fillna(0.0, inplace = True)\n",
    "countries_mobility_df['grocery_and_pharmacy_percent_change_from_baseline'].fillna(0.0, inplace = True)\n",
    "countries_mobility_df['parks_percent_change_from_baseline'].fillna(0.0, inplace = True)\n",
    "countries_mobility_df['transit_stations_percent_change_from_baseline'].fillna(0.0, inplace = True)\n",
    "countries_mobility_df['workplaces_percent_change_from_baseline'].fillna(0.0, inplace = True)\n",
    "countries_mobility_df['residential_percent_change_from_baseline'].fillna(0.0, inplace = True)"
   ]
  },
  {
   "cell_type": "code",
   "execution_count": 22,
   "metadata": {},
   "outputs": [],
   "source": [
    "countries_mobility_df_agg = countries_mobility_df.groupby(['country_region', 'date']).mean()\n",
    "countries_mobility_df_agg.to_csv(os.path.join(app_dir, 'data/staging', 'google_mobility.csv'))"
   ]
  },
  {
   "cell_type": "code",
   "execution_count": 45,
   "metadata": {},
   "outputs": [],
   "source": [
    "oxford_stringency_df = pd.read_csv(os.path.join(app_dir, 'data/raw/oxford', 'OxCGRT_latest.csv'))"
   ]
  },
  {
   "cell_type": "code",
   "execution_count": 46,
   "metadata": {},
   "outputs": [
    {
     "output_type": "execute_result",
     "data": {
      "text/plain": "CountryName                              22563\nCountryCode                              22563\nDate                                     22563\nC1_School closing                        21783\nC1_Flag                                   9701\nC2_Workplace closing                     21543\nC2_Flag                                   8167\nC3_Cancel public events                  21453\nC3_Flag                                   9758\nC4_Restrictions on gatherings            21447\nC4_Flag                                   8419\nC5_Close public transport                21382\nC5_Flag                                   6354\nC6_Stay at home requirements             21295\nC6_Flag                                   7458\nC7_Restrictions on internal movement     21587\nC7_Flag                                   7853\nC8_International travel controls         21702\nE1_Income support                        20828\nE1_Flag                                   4112\nE2_Debt/contract relief                  20806\nE3_Fiscal measures                       20171\nE4_International support                 19931\nH1_Public information campaigns          21493\nH1_Flag                                  13602\nH2_Testing policy                        20985\nH3_Contact tracing                       21079\nH4_Emergency investment in healthcare    20615\nH5_Investment in vaccines                20654\nM1_Wildcard                                  0\nConfirmedCases                           14449\nConfirmedDeaths                          14449\nStringencyIndex                          21163\nStringencyIndexForDisplay                21805\nLegacyStringencyIndex                    21452\nLegacyStringencyIndexForDisplay          22093\ndtype: int64"
     },
     "metadata": {},
     "execution_count": 46
    }
   ],
   "source": [
    "oxford_stringency_df.count()"
   ]
  },
  {
   "cell_type": "code",
   "execution_count": 47,
   "metadata": {},
   "outputs": [],
   "source": [
    "STRINGENCY_COLUMNS_TO_KEEP = [\n",
    "    'CountryName',\n",
    "    'Date',\n",
    "    'C1_School closing',\n",
    "    # 'C1_Flag',\n",
    "    'C2_Workplace closing',\n",
    "    # 'C2_Flag',\n",
    "    'C3_Cancel public events',\n",
    "    # 'C3_Flag',\n",
    "    'C4_Restrictions on gatherings',\n",
    "    # 'C4_Flag',\n",
    "    'C5_Close public transport',\n",
    "    # 'C5_Flag',\n",
    "    'C6_Stay at home requirements',\n",
    "    # 'C6_Flag',\n",
    "    'C7_Restrictions on internal movement',\n",
    "    # 'C7_Flag',\n",
    "    'C8_International travel controls',\n",
    "    'E1_Income support',\n",
    "    # 'E1_Flag',\n",
    "    'E2_Debt/contract relief',\n",
    "    # 'E3_Fiscal measures',\n",
    "    # 'E4_International support',\n",
    "    'H1_Public information campaigns',\n",
    "    # 'H1_Flag',\n",
    "    'H2_Testing policy',\n",
    "    'H3_Contact tracing',\n",
    "    # 'H4_Emergency investment in healthcare',\n",
    "    # 'H5_Investment in vaccines',\n",
    "    'StringencyIndex'\n",
    "]"
   ]
  },
  {
   "cell_type": "code",
   "execution_count": 48,
   "metadata": {},
   "outputs": [],
   "source": [
    "countries_stringency_df = oxford_stringency_df[oxford_stringency_df['CountryName'].isin(COUNTRIES)][STRINGENCY_COLUMNS_TO_KEEP]\n",
    "countries_stringency_df['Date'] = countries_stringency_df['Date'].transform(lambda d: str(d)[0:4] + '-' + str(d)[4:6] + '-' + str(d)[6:])\n",
    "countries_stringency_df.fillna(0.0, inplace = True)\n",
    "countries_stringency_df.to_csv(os.path.join(app_dir, 'data/staging', 'oxford_stringency.csv'))"
   ]
  },
  {
   "cell_type": "code",
   "execution_count": 13,
   "metadata": {},
   "outputs": [
    {
     "output_type": "execute_result",
     "data": {
      "text/plain": "CountryName                             1632\nDate                                    1632\nC1_School closing                       1632\nC2_Workplace closing                    1632\nC3_Cancel public events                 1632\nC4_Restrictions on gatherings           1632\nC5_Close public transport               1632\nC6_Stay at home requirements            1632\nC7_Restrictions on internal movement    1632\nC8_International travel controls        1632\nE1_Income support                       1632\nE2_Debt/contract relief                 1632\nH1_Public information campaigns         1632\nH2_Testing policy                       1632\nH3_Contact tracing                      1632\nStringencyIndex                         1632\ndtype: int64"
     },
     "metadata": {},
     "execution_count": 13
    }
   ],
   "source": [
    "countries_stringency_df.count()"
   ]
  },
  {
   "cell_type": "code",
   "execution_count": 59,
   "metadata": {},
   "outputs": [],
   "source": [
    "\n",
    "jhu_cases_raw_df = pd.read_csv(os.path.join(app_dir, 'data/raw/jhu', 'time_series_covid19_confirmed_global.csv'))\n",
    "countries_metrics_df = jhu_cases_raw_df.drop(columns = ['Province/State', 'Lat', 'Long'])\n",
    "countries_metrics_df['Country/Region'] = countries_metrics_df['Country/Region'].replace('US', 'United States')\n",
    "\n",
    "all_countries_metrics_cols = ['country', 'date', 'cases']\n",
    "for shift in range(1, 20):\n",
    "    all_countries_metrics_cols.append('cases_lag_' + str(shift))\n",
    "all_countries_metrics_df = pd.DataFrame(columns = all_countries_metrics_cols)\n",
    "\n",
    "\n",
    "for country in COUNTRIES:\n",
    "    transposed_df = countries_metrics_df[countries_metrics_df['Country/Region'] == country].drop(columns = ['Country/Region']).transpose()\n",
    "    num_cols = len(transposed_df.columns)\n",
    "    num_rows = transposed_df.shape[0]\n",
    "\n",
    "    if num_rows == 0 or num_cols == 0:\n",
    "        continue\n",
    "\n",
    "    value_col_name = transposed_df.columns[0]\n",
    "\n",
    "    country_series = pd.Series([country] * num_rows)\n",
    "    dates_series = pd.to_datetime(pd.Series(transposed_df.index))\n",
    "    value_series = transposed_df[value_col_name].reset_index()[value_col_name]\n",
    "\n",
    "    country_df = pd.DataFrame({\n",
    "        'country': country_series,\n",
    "        'date': dates_series,\n",
    "        'cases': value_series\n",
    "    })\n",
    "\n",
    "    for shift in range(1, 20):\n",
    "        country_df['cases_lag_' + str(shift)] = value_series.shift(shift, fill_value = 0)\n",
    "\n",
    "    all_countries_metrics_df = all_countries_metrics_df.append(country_df, ignore_index = True)\n",
    "\n",
    "all_countries_metrics_df.to_csv(os.path.join(app_dir, 'data/staging', 'jhu_cases.csv'), index = False)"
   ]
  },
  {
   "cell_type": "code",
   "execution_count": 63,
   "metadata": {},
   "outputs": [
    {
     "output_type": "execute_result",
     "data": {
      "text/plain": "217"
     },
     "metadata": {},
     "execution_count": 63
    }
   ],
   "source": [
    "value_col_name"
   ]
  },
  {
   "cell_type": "code",
   "execution_count": 56,
   "metadata": {},
   "outputs": [
    {
     "output_type": "execute_result",
     "data": {
      "text/plain": "            country       date cases cases_lag_1 cases_lag_2 cases_lag_3  \\\n684  United Kingdom 2020-01-22     0           0           0           0   \n685  United Kingdom 2020-01-23     0           0           0           0   \n686  United Kingdom 2020-01-24     0           0           0           0   \n687  United Kingdom 2020-01-25     0           0           0           0   \n688  United Kingdom 2020-01-26     0           0           0           0   \n..              ...        ...   ...         ...         ...         ...   \n793  United Kingdom 2020-05-10   118         118         118         118   \n794  United Kingdom 2020-05-11   119         118         118         118   \n795  United Kingdom 2020-05-12   121         119         118         118   \n796  United Kingdom 2020-05-13   121         121         119         118   \n797  United Kingdom 2020-05-14   122         121         121         119   \n\n    cases_lag_4 cases_lag_5 cases_lag_6 cases_lag_7  ... cases_lag_10  \\\n684           0           0           0           0  ...            0   \n685           0           0           0           0  ...            0   \n686           0           0           0           0  ...            0   \n687           0           0           0           0  ...            0   \n688           0           0           0           0  ...            0   \n..          ...         ...         ...         ...  ...          ...   \n793         118         115         115         115  ...          114   \n794         118         118         115         115  ...          114   \n795         118         118         118         115  ...          114   \n796         118         118         118         118  ...          115   \n797         118         118         118         118  ...          115   \n\n    cases_lag_11 cases_lag_12 cases_lag_13 cases_lag_14 cases_lag_15  \\\n684            0            0            0            0            0   \n685            0            0            0            0            0   \n686            0            0            0            0            0   \n687            0            0            0            0            0   \n688            0            0            0            0            0   \n..           ...          ...          ...          ...          ...   \n793          111          110          110          109          109   \n794          114          111          110          110          109   \n795          114          114          111          110          110   \n796          114          114          114          111          110   \n797          115          114          114          114          111   \n\n    cases_lag_16 cases_lag_17 cases_lag_18 cases_lag_19  \n684            0            0            0            0  \n685            0            0            0            0  \n686            0            0            0            0  \n687            0            0            0            0  \n688            0            0            0            0  \n..           ...          ...          ...          ...  \n793           99           99           99           86  \n794          109           99           99           99  \n795          109          109           99           99  \n796          110          109          109           99  \n797          110          110          109          109  \n\n[114 rows x 22 columns]",
      "text/html": "<div>\n<style scoped>\n    .dataframe tbody tr th:only-of-type {\n        vertical-align: middle;\n    }\n\n    .dataframe tbody tr th {\n        vertical-align: top;\n    }\n\n    .dataframe thead th {\n        text-align: right;\n    }\n</style>\n<table border=\"1\" class=\"dataframe\">\n  <thead>\n    <tr style=\"text-align: right;\">\n      <th></th>\n      <th>country</th>\n      <th>date</th>\n      <th>cases</th>\n      <th>cases_lag_1</th>\n      <th>cases_lag_2</th>\n      <th>cases_lag_3</th>\n      <th>cases_lag_4</th>\n      <th>cases_lag_5</th>\n      <th>cases_lag_6</th>\n      <th>cases_lag_7</th>\n      <th>...</th>\n      <th>cases_lag_10</th>\n      <th>cases_lag_11</th>\n      <th>cases_lag_12</th>\n      <th>cases_lag_13</th>\n      <th>cases_lag_14</th>\n      <th>cases_lag_15</th>\n      <th>cases_lag_16</th>\n      <th>cases_lag_17</th>\n      <th>cases_lag_18</th>\n      <th>cases_lag_19</th>\n    </tr>\n  </thead>\n  <tbody>\n    <tr>\n      <th>684</th>\n      <td>United Kingdom</td>\n      <td>2020-01-22</td>\n      <td>0</td>\n      <td>0</td>\n      <td>0</td>\n      <td>0</td>\n      <td>0</td>\n      <td>0</td>\n      <td>0</td>\n      <td>0</td>\n      <td>...</td>\n      <td>0</td>\n      <td>0</td>\n      <td>0</td>\n      <td>0</td>\n      <td>0</td>\n      <td>0</td>\n      <td>0</td>\n      <td>0</td>\n      <td>0</td>\n      <td>0</td>\n    </tr>\n    <tr>\n      <th>685</th>\n      <td>United Kingdom</td>\n      <td>2020-01-23</td>\n      <td>0</td>\n      <td>0</td>\n      <td>0</td>\n      <td>0</td>\n      <td>0</td>\n      <td>0</td>\n      <td>0</td>\n      <td>0</td>\n      <td>...</td>\n      <td>0</td>\n      <td>0</td>\n      <td>0</td>\n      <td>0</td>\n      <td>0</td>\n      <td>0</td>\n      <td>0</td>\n      <td>0</td>\n      <td>0</td>\n      <td>0</td>\n    </tr>\n    <tr>\n      <th>686</th>\n      <td>United Kingdom</td>\n      <td>2020-01-24</td>\n      <td>0</td>\n      <td>0</td>\n      <td>0</td>\n      <td>0</td>\n      <td>0</td>\n      <td>0</td>\n      <td>0</td>\n      <td>0</td>\n      <td>...</td>\n      <td>0</td>\n      <td>0</td>\n      <td>0</td>\n      <td>0</td>\n      <td>0</td>\n      <td>0</td>\n      <td>0</td>\n      <td>0</td>\n      <td>0</td>\n      <td>0</td>\n    </tr>\n    <tr>\n      <th>687</th>\n      <td>United Kingdom</td>\n      <td>2020-01-25</td>\n      <td>0</td>\n      <td>0</td>\n      <td>0</td>\n      <td>0</td>\n      <td>0</td>\n      <td>0</td>\n      <td>0</td>\n      <td>0</td>\n      <td>...</td>\n      <td>0</td>\n      <td>0</td>\n      <td>0</td>\n      <td>0</td>\n      <td>0</td>\n      <td>0</td>\n      <td>0</td>\n      <td>0</td>\n      <td>0</td>\n      <td>0</td>\n    </tr>\n    <tr>\n      <th>688</th>\n      <td>United Kingdom</td>\n      <td>2020-01-26</td>\n      <td>0</td>\n      <td>0</td>\n      <td>0</td>\n      <td>0</td>\n      <td>0</td>\n      <td>0</td>\n      <td>0</td>\n      <td>0</td>\n      <td>...</td>\n      <td>0</td>\n      <td>0</td>\n      <td>0</td>\n      <td>0</td>\n      <td>0</td>\n      <td>0</td>\n      <td>0</td>\n      <td>0</td>\n      <td>0</td>\n      <td>0</td>\n    </tr>\n    <tr>\n      <th>...</th>\n      <td>...</td>\n      <td>...</td>\n      <td>...</td>\n      <td>...</td>\n      <td>...</td>\n      <td>...</td>\n      <td>...</td>\n      <td>...</td>\n      <td>...</td>\n      <td>...</td>\n      <td>...</td>\n      <td>...</td>\n      <td>...</td>\n      <td>...</td>\n      <td>...</td>\n      <td>...</td>\n      <td>...</td>\n      <td>...</td>\n      <td>...</td>\n      <td>...</td>\n      <td>...</td>\n    </tr>\n    <tr>\n      <th>793</th>\n      <td>United Kingdom</td>\n      <td>2020-05-10</td>\n      <td>118</td>\n      <td>118</td>\n      <td>118</td>\n      <td>118</td>\n      <td>118</td>\n      <td>115</td>\n      <td>115</td>\n      <td>115</td>\n      <td>...</td>\n      <td>114</td>\n      <td>111</td>\n      <td>110</td>\n      <td>110</td>\n      <td>109</td>\n      <td>109</td>\n      <td>99</td>\n      <td>99</td>\n      <td>99</td>\n      <td>86</td>\n    </tr>\n    <tr>\n      <th>794</th>\n      <td>United Kingdom</td>\n      <td>2020-05-11</td>\n      <td>119</td>\n      <td>118</td>\n      <td>118</td>\n      <td>118</td>\n      <td>118</td>\n      <td>118</td>\n      <td>115</td>\n      <td>115</td>\n      <td>...</td>\n      <td>114</td>\n      <td>114</td>\n      <td>111</td>\n      <td>110</td>\n      <td>110</td>\n      <td>109</td>\n      <td>109</td>\n      <td>99</td>\n      <td>99</td>\n      <td>99</td>\n    </tr>\n    <tr>\n      <th>795</th>\n      <td>United Kingdom</td>\n      <td>2020-05-12</td>\n      <td>121</td>\n      <td>119</td>\n      <td>118</td>\n      <td>118</td>\n      <td>118</td>\n      <td>118</td>\n      <td>118</td>\n      <td>115</td>\n      <td>...</td>\n      <td>114</td>\n      <td>114</td>\n      <td>114</td>\n      <td>111</td>\n      <td>110</td>\n      <td>110</td>\n      <td>109</td>\n      <td>109</td>\n      <td>99</td>\n      <td>99</td>\n    </tr>\n    <tr>\n      <th>796</th>\n      <td>United Kingdom</td>\n      <td>2020-05-13</td>\n      <td>121</td>\n      <td>121</td>\n      <td>119</td>\n      <td>118</td>\n      <td>118</td>\n      <td>118</td>\n      <td>118</td>\n      <td>118</td>\n      <td>...</td>\n      <td>115</td>\n      <td>114</td>\n      <td>114</td>\n      <td>114</td>\n      <td>111</td>\n      <td>110</td>\n      <td>110</td>\n      <td>109</td>\n      <td>109</td>\n      <td>99</td>\n    </tr>\n    <tr>\n      <th>797</th>\n      <td>United Kingdom</td>\n      <td>2020-05-14</td>\n      <td>122</td>\n      <td>121</td>\n      <td>121</td>\n      <td>119</td>\n      <td>118</td>\n      <td>118</td>\n      <td>118</td>\n      <td>118</td>\n      <td>...</td>\n      <td>115</td>\n      <td>115</td>\n      <td>114</td>\n      <td>114</td>\n      <td>114</td>\n      <td>111</td>\n      <td>110</td>\n      <td>110</td>\n      <td>109</td>\n      <td>109</td>\n    </tr>\n  </tbody>\n</table>\n<p>114 rows × 22 columns</p>\n</div>"
     },
     "metadata": {},
     "execution_count": 56
    }
   ],
   "source": [
    "all_countries_metrics_df[all_countries_metrics_df['country'] == 'United Kingdom']"
   ]
  },
  {
   "cell_type": "code",
   "execution_count": 58,
   "metadata": {},
   "outputs": [
    {
     "output_type": "execute_result",
     "data": {
      "text/plain": "                  Province/State  Country/Region      Lat     Long  1/22/20  \\\n217                      Bermuda  United Kingdom  32.3078 -64.7505        0   \n218               Cayman Islands  United Kingdom  19.3133 -81.2546        0   \n219              Channel Islands  United Kingdom  49.3723  -2.3644        0   \n220                    Gibraltar  United Kingdom  36.1408  -5.3536        0   \n221                  Isle of Man  United Kingdom  54.2361  -4.5481        0   \n222                   Montserrat  United Kingdom  16.7425 -62.1874        0   \n223                          NaN  United Kingdom  55.3781  -3.4360        0   \n248                     Anguilla  United Kingdom  18.2206 -63.0686        0   \n249       British Virgin Islands  United Kingdom  18.4207 -64.6400        0   \n250     Turks and Caicos Islands  United Kingdom  21.6940 -71.7979        0   \n257  Falkland Islands (Malvinas)  United Kingdom -51.7963 -59.5236        0   \n\n     1/23/20  1/24/20  1/25/20  1/26/20  1/27/20  ...  5/5/20  5/6/20  5/7/20  \\\n217        0        0        0        0        0  ...     115     118     118   \n218        0        0        0        0        0  ...      78      78      80   \n219        0        0        0        0        0  ...     545     545     545   \n220        0        0        0        0        0  ...     144     144     144   \n221        0        0        0        0        0  ...     326     327     329   \n222        0        0        0        0        0  ...      11      11      11   \n223        0        0        0        0        0  ...  194990  201101  206715   \n248        0        0        0        0        0  ...       3       3       3   \n249        0        0        0        0        0  ...       6       7       7   \n250        0        0        0        0        0  ...      12      12      12   \n257        0        0        0        0        0  ...      13      13      13   \n\n     5/8/20  5/9/20  5/10/20  5/11/20  5/12/20  5/13/20  5/14/20  \n217     118     118      118      119      121      121      122  \n218      81      81       81       84       85       86       93  \n219     545     545      545      546      547      548      549  \n220     146     146      146      147      148      147      147  \n221     329     329      330      330      331      332      332  \n222      11      11       11       11       11       11       11  \n223  211364  215260   219183   223060   226463   229705   233151  \n248       3       3        3        3        3        3        3  \n249       7       7        7        7        7        7        7  \n250      12      12       12       12       12       12       12  \n257      13      13       13       13       13       13       13  \n\n[11 rows x 118 columns]",
      "text/html": "<div>\n<style scoped>\n    .dataframe tbody tr th:only-of-type {\n        vertical-align: middle;\n    }\n\n    .dataframe tbody tr th {\n        vertical-align: top;\n    }\n\n    .dataframe thead th {\n        text-align: right;\n    }\n</style>\n<table border=\"1\" class=\"dataframe\">\n  <thead>\n    <tr style=\"text-align: right;\">\n      <th></th>\n      <th>Province/State</th>\n      <th>Country/Region</th>\n      <th>Lat</th>\n      <th>Long</th>\n      <th>1/22/20</th>\n      <th>1/23/20</th>\n      <th>1/24/20</th>\n      <th>1/25/20</th>\n      <th>1/26/20</th>\n      <th>1/27/20</th>\n      <th>...</th>\n      <th>5/5/20</th>\n      <th>5/6/20</th>\n      <th>5/7/20</th>\n      <th>5/8/20</th>\n      <th>5/9/20</th>\n      <th>5/10/20</th>\n      <th>5/11/20</th>\n      <th>5/12/20</th>\n      <th>5/13/20</th>\n      <th>5/14/20</th>\n    </tr>\n  </thead>\n  <tbody>\n    <tr>\n      <th>217</th>\n      <td>Bermuda</td>\n      <td>United Kingdom</td>\n      <td>32.3078</td>\n      <td>-64.7505</td>\n      <td>0</td>\n      <td>0</td>\n      <td>0</td>\n      <td>0</td>\n      <td>0</td>\n      <td>0</td>\n      <td>...</td>\n      <td>115</td>\n      <td>118</td>\n      <td>118</td>\n      <td>118</td>\n      <td>118</td>\n      <td>118</td>\n      <td>119</td>\n      <td>121</td>\n      <td>121</td>\n      <td>122</td>\n    </tr>\n    <tr>\n      <th>218</th>\n      <td>Cayman Islands</td>\n      <td>United Kingdom</td>\n      <td>19.3133</td>\n      <td>-81.2546</td>\n      <td>0</td>\n      <td>0</td>\n      <td>0</td>\n      <td>0</td>\n      <td>0</td>\n      <td>0</td>\n      <td>...</td>\n      <td>78</td>\n      <td>78</td>\n      <td>80</td>\n      <td>81</td>\n      <td>81</td>\n      <td>81</td>\n      <td>84</td>\n      <td>85</td>\n      <td>86</td>\n      <td>93</td>\n    </tr>\n    <tr>\n      <th>219</th>\n      <td>Channel Islands</td>\n      <td>United Kingdom</td>\n      <td>49.3723</td>\n      <td>-2.3644</td>\n      <td>0</td>\n      <td>0</td>\n      <td>0</td>\n      <td>0</td>\n      <td>0</td>\n      <td>0</td>\n      <td>...</td>\n      <td>545</td>\n      <td>545</td>\n      <td>545</td>\n      <td>545</td>\n      <td>545</td>\n      <td>545</td>\n      <td>546</td>\n      <td>547</td>\n      <td>548</td>\n      <td>549</td>\n    </tr>\n    <tr>\n      <th>220</th>\n      <td>Gibraltar</td>\n      <td>United Kingdom</td>\n      <td>36.1408</td>\n      <td>-5.3536</td>\n      <td>0</td>\n      <td>0</td>\n      <td>0</td>\n      <td>0</td>\n      <td>0</td>\n      <td>0</td>\n      <td>...</td>\n      <td>144</td>\n      <td>144</td>\n      <td>144</td>\n      <td>146</td>\n      <td>146</td>\n      <td>146</td>\n      <td>147</td>\n      <td>148</td>\n      <td>147</td>\n      <td>147</td>\n    </tr>\n    <tr>\n      <th>221</th>\n      <td>Isle of Man</td>\n      <td>United Kingdom</td>\n      <td>54.2361</td>\n      <td>-4.5481</td>\n      <td>0</td>\n      <td>0</td>\n      <td>0</td>\n      <td>0</td>\n      <td>0</td>\n      <td>0</td>\n      <td>...</td>\n      <td>326</td>\n      <td>327</td>\n      <td>329</td>\n      <td>329</td>\n      <td>329</td>\n      <td>330</td>\n      <td>330</td>\n      <td>331</td>\n      <td>332</td>\n      <td>332</td>\n    </tr>\n    <tr>\n      <th>222</th>\n      <td>Montserrat</td>\n      <td>United Kingdom</td>\n      <td>16.7425</td>\n      <td>-62.1874</td>\n      <td>0</td>\n      <td>0</td>\n      <td>0</td>\n      <td>0</td>\n      <td>0</td>\n      <td>0</td>\n      <td>...</td>\n      <td>11</td>\n      <td>11</td>\n      <td>11</td>\n      <td>11</td>\n      <td>11</td>\n      <td>11</td>\n      <td>11</td>\n      <td>11</td>\n      <td>11</td>\n      <td>11</td>\n    </tr>\n    <tr>\n      <th>223</th>\n      <td>NaN</td>\n      <td>United Kingdom</td>\n      <td>55.3781</td>\n      <td>-3.4360</td>\n      <td>0</td>\n      <td>0</td>\n      <td>0</td>\n      <td>0</td>\n      <td>0</td>\n      <td>0</td>\n      <td>...</td>\n      <td>194990</td>\n      <td>201101</td>\n      <td>206715</td>\n      <td>211364</td>\n      <td>215260</td>\n      <td>219183</td>\n      <td>223060</td>\n      <td>226463</td>\n      <td>229705</td>\n      <td>233151</td>\n    </tr>\n    <tr>\n      <th>248</th>\n      <td>Anguilla</td>\n      <td>United Kingdom</td>\n      <td>18.2206</td>\n      <td>-63.0686</td>\n      <td>0</td>\n      <td>0</td>\n      <td>0</td>\n      <td>0</td>\n      <td>0</td>\n      <td>0</td>\n      <td>...</td>\n      <td>3</td>\n      <td>3</td>\n      <td>3</td>\n      <td>3</td>\n      <td>3</td>\n      <td>3</td>\n      <td>3</td>\n      <td>3</td>\n      <td>3</td>\n      <td>3</td>\n    </tr>\n    <tr>\n      <th>249</th>\n      <td>British Virgin Islands</td>\n      <td>United Kingdom</td>\n      <td>18.4207</td>\n      <td>-64.6400</td>\n      <td>0</td>\n      <td>0</td>\n      <td>0</td>\n      <td>0</td>\n      <td>0</td>\n      <td>0</td>\n      <td>...</td>\n      <td>6</td>\n      <td>7</td>\n      <td>7</td>\n      <td>7</td>\n      <td>7</td>\n      <td>7</td>\n      <td>7</td>\n      <td>7</td>\n      <td>7</td>\n      <td>7</td>\n    </tr>\n    <tr>\n      <th>250</th>\n      <td>Turks and Caicos Islands</td>\n      <td>United Kingdom</td>\n      <td>21.6940</td>\n      <td>-71.7979</td>\n      <td>0</td>\n      <td>0</td>\n      <td>0</td>\n      <td>0</td>\n      <td>0</td>\n      <td>0</td>\n      <td>...</td>\n      <td>12</td>\n      <td>12</td>\n      <td>12</td>\n      <td>12</td>\n      <td>12</td>\n      <td>12</td>\n      <td>12</td>\n      <td>12</td>\n      <td>12</td>\n      <td>12</td>\n    </tr>\n    <tr>\n      <th>257</th>\n      <td>Falkland Islands (Malvinas)</td>\n      <td>United Kingdom</td>\n      <td>-51.7963</td>\n      <td>-59.5236</td>\n      <td>0</td>\n      <td>0</td>\n      <td>0</td>\n      <td>0</td>\n      <td>0</td>\n      <td>0</td>\n      <td>...</td>\n      <td>13</td>\n      <td>13</td>\n      <td>13</td>\n      <td>13</td>\n      <td>13</td>\n      <td>13</td>\n      <td>13</td>\n      <td>13</td>\n      <td>13</td>\n      <td>13</td>\n    </tr>\n  </tbody>\n</table>\n<p>11 rows × 118 columns</p>\n</div>"
     },
     "metadata": {},
     "execution_count": 58
    }
   ],
   "source": [
    "jhu_cases_raw_df[jhu_cases_raw_df['Country/Region'] == 'United Kingdom']"
   ]
  },
  {
   "cell_type": "code",
   "execution_count": 64,
   "metadata": {},
   "outputs": [
    {
     "output_type": "execute_result",
     "data": {
      "text/plain": "         217  218  219  220  221  222     223  248  249  250  257\n1/22/20    0    0    0    0    0    0       0    0    0    0    0\n1/23/20    0    0    0    0    0    0       0    0    0    0    0\n1/24/20    0    0    0    0    0    0       0    0    0    0    0\n1/25/20    0    0    0    0    0    0       0    0    0    0    0\n1/26/20    0    0    0    0    0    0       0    0    0    0    0\n...      ...  ...  ...  ...  ...  ...     ...  ...  ...  ...  ...\n5/10/20  118   81  545  146  330   11  219183    3    7   12   13\n5/11/20  119   84  546  147  330   11  223060    3    7   12   13\n5/12/20  121   85  547  148  331   11  226463    3    7   12   13\n5/13/20  121   86  548  147  332   11  229705    3    7   12   13\n5/14/20  122   93  549  147  332   11  233151    3    7   12   13\n\n[114 rows x 11 columns]",
      "text/html": "<div>\n<style scoped>\n    .dataframe tbody tr th:only-of-type {\n        vertical-align: middle;\n    }\n\n    .dataframe tbody tr th {\n        vertical-align: top;\n    }\n\n    .dataframe thead th {\n        text-align: right;\n    }\n</style>\n<table border=\"1\" class=\"dataframe\">\n  <thead>\n    <tr style=\"text-align: right;\">\n      <th></th>\n      <th>217</th>\n      <th>218</th>\n      <th>219</th>\n      <th>220</th>\n      <th>221</th>\n      <th>222</th>\n      <th>223</th>\n      <th>248</th>\n      <th>249</th>\n      <th>250</th>\n      <th>257</th>\n    </tr>\n  </thead>\n  <tbody>\n    <tr>\n      <th>1/22/20</th>\n      <td>0</td>\n      <td>0</td>\n      <td>0</td>\n      <td>0</td>\n      <td>0</td>\n      <td>0</td>\n      <td>0</td>\n      <td>0</td>\n      <td>0</td>\n      <td>0</td>\n      <td>0</td>\n    </tr>\n    <tr>\n      <th>1/23/20</th>\n      <td>0</td>\n      <td>0</td>\n      <td>0</td>\n      <td>0</td>\n      <td>0</td>\n      <td>0</td>\n      <td>0</td>\n      <td>0</td>\n      <td>0</td>\n      <td>0</td>\n      <td>0</td>\n    </tr>\n    <tr>\n      <th>1/24/20</th>\n      <td>0</td>\n      <td>0</td>\n      <td>0</td>\n      <td>0</td>\n      <td>0</td>\n      <td>0</td>\n      <td>0</td>\n      <td>0</td>\n      <td>0</td>\n      <td>0</td>\n      <td>0</td>\n    </tr>\n    <tr>\n      <th>1/25/20</th>\n      <td>0</td>\n      <td>0</td>\n      <td>0</td>\n      <td>0</td>\n      <td>0</td>\n      <td>0</td>\n      <td>0</td>\n      <td>0</td>\n      <td>0</td>\n      <td>0</td>\n      <td>0</td>\n    </tr>\n    <tr>\n      <th>1/26/20</th>\n      <td>0</td>\n      <td>0</td>\n      <td>0</td>\n      <td>0</td>\n      <td>0</td>\n      <td>0</td>\n      <td>0</td>\n      <td>0</td>\n      <td>0</td>\n      <td>0</td>\n      <td>0</td>\n    </tr>\n    <tr>\n      <th>...</th>\n      <td>...</td>\n      <td>...</td>\n      <td>...</td>\n      <td>...</td>\n      <td>...</td>\n      <td>...</td>\n      <td>...</td>\n      <td>...</td>\n      <td>...</td>\n      <td>...</td>\n      <td>...</td>\n    </tr>\n    <tr>\n      <th>5/10/20</th>\n      <td>118</td>\n      <td>81</td>\n      <td>545</td>\n      <td>146</td>\n      <td>330</td>\n      <td>11</td>\n      <td>219183</td>\n      <td>3</td>\n      <td>7</td>\n      <td>12</td>\n      <td>13</td>\n    </tr>\n    <tr>\n      <th>5/11/20</th>\n      <td>119</td>\n      <td>84</td>\n      <td>546</td>\n      <td>147</td>\n      <td>330</td>\n      <td>11</td>\n      <td>223060</td>\n      <td>3</td>\n      <td>7</td>\n      <td>12</td>\n      <td>13</td>\n    </tr>\n    <tr>\n      <th>5/12/20</th>\n      <td>121</td>\n      <td>85</td>\n      <td>547</td>\n      <td>148</td>\n      <td>331</td>\n      <td>11</td>\n      <td>226463</td>\n      <td>3</td>\n      <td>7</td>\n      <td>12</td>\n      <td>13</td>\n    </tr>\n    <tr>\n      <th>5/13/20</th>\n      <td>121</td>\n      <td>86</td>\n      <td>548</td>\n      <td>147</td>\n      <td>332</td>\n      <td>11</td>\n      <td>229705</td>\n      <td>3</td>\n      <td>7</td>\n      <td>12</td>\n      <td>13</td>\n    </tr>\n    <tr>\n      <th>5/14/20</th>\n      <td>122</td>\n      <td>93</td>\n      <td>549</td>\n      <td>147</td>\n      <td>332</td>\n      <td>11</td>\n      <td>233151</td>\n      <td>3</td>\n      <td>7</td>\n      <td>12</td>\n      <td>13</td>\n    </tr>\n  </tbody>\n</table>\n<p>114 rows × 11 columns</p>\n</div>"
     },
     "metadata": {},
     "execution_count": 64
    }
   ],
   "source": [
    "transposed_df"
   ]
  },
  {
   "cell_type": "code",
   "execution_count": 37,
   "metadata": {},
   "outputs": [
    {
     "output_type": "execute_result",
     "data": {
      "text/plain": "0           0\n1           0\n2           0\n3           0\n4           0\n        ...  \n109    156061\n110    162699\n111    169594\n112    178214\n113    190137\nName: 28, Length: 114, dtype: int64"
     },
     "metadata": {},
     "execution_count": 37
    }
   ],
   "source": [
    "value_series.shift(1, fill_value = 0)"
   ]
  },
  {
   "cell_type": "code",
   "execution_count": 17,
   "metadata": {},
   "outputs": [],
   "source": [
    "\n",
    "jhu_deaths_raw_df = pd.read_csv(os.path.join(app_dir, 'data/raw/jhu', 'time_series_covid19_deaths_global.csv'))\n",
    "countries_metrics_df = jhu_deaths_raw_df.drop(columns = ['Province/State', 'Lat', 'Long'])\n",
    "countries_metrics_df['Country/Region'] = countries_metrics_df['Country/Region'].replace('US', 'United States')\n",
    "\n",
    "all_countries_metrics_df = pd.DataFrame(columns = ['country', 'date', 'deaths'])\n",
    "\n",
    "for country in COUNTRIES:\n",
    "    transposed_df = countries_metrics_df[countries_metrics_df['Country/Region'] == country].drop(columns = ['Country/Region']).transpose()\n",
    "    num_cols = len(transposed_df.columns)\n",
    "    num_rows = transposed_df.shape[0]\n",
    "\n",
    "    if num_rows == 0 or num_cols == 0:\n",
    "        continue\n",
    "\n",
    "    value_col_name = transposed_df.columns[0]\n",
    "\n",
    "    country_series = pd.Series([country] * num_rows)\n",
    "    dates_series = pd.to_datetime(pd.Series(transposed_df.index))\n",
    "    value_series = transposed_df[value_col_name].reset_index()[value_col_name]\n",
    "    \n",
    "    country_df = pd.DataFrame({\n",
    "        'country': country_series,\n",
    "        'date': dates_series,\n",
    "        'deaths': value_series\n",
    "    })\n",
    "\n",
    "    all_countries_metrics_df = all_countries_metrics_df.append(country_df, ignore_index = True)\n",
    "\n",
    "all_countries_metrics_df.to_csv(os.path.join(app_dir, 'data/staging', 'jhu_deaths.csv'), index = False)"
   ]
  },
  {
   "cell_type": "code",
   "execution_count": 39,
   "metadata": {},
   "outputs": [],
   "source": [
    "\n",
    "jhu_cases_raw_df = pd.read_csv(os.path.join(app_dir, 'data/raw/jhu', 'time_series_covid19_confirmed_global.csv'))\n",
    "countries_metrics_df = jhu_cases_raw_df.drop(columns = ['Province/State', 'Lat', 'Long'])\n",
    "countries_metrics_df['Country/Region'] = countries_metrics_df['Country/Region'].replace('US', 'United States')\n",
    "\n",
    "all_countries_metrics_cols = ['country', 'date', 'cases']\n",
    "for shift in range(1, 20):\n",
    "    all_countries_metrics_cols.append('cases_lag_' + str(shift))\n",
    "all_countries_metrics_df = pd.DataFrame(columns = all_countries_metrics_cols)\n",
    "\n",
    "\n",
    "for country in COUNTRIES:\n",
    "    grouped_countries_df = countries_metrics_df.groupby('Country/Region').sum().reset_index()\n",
    "    transposed_df = grouped_countries_df[grouped_countries_df['Country/Region'] == country].drop(columns = ['Country/Region']).transpose()\n",
    "    num_cols = len(transposed_df.columns)\n",
    "    num_rows = transposed_df.shape[0]\n",
    "\n",
    "    if num_rows == 0 or num_cols == 0:\n",
    "        continue\n",
    "\n",
    "    value_col_name = transposed_df.columns[0]\n",
    "\n",
    "    country_series = pd.Series([country] * num_rows)\n",
    "    dates_series = pd.to_datetime(pd.Series(transposed_df.index))\n",
    "    value_series = transposed_df[value_col_name].reset_index()[value_col_name]\n",
    "\n",
    "    country_df = pd.DataFrame({\n",
    "        'country': country_series,\n",
    "        'date': dates_series,\n",
    "        'cases': value_series\n",
    "    })\n",
    "\n",
    "    for shift in range(1, 20):\n",
    "        country_df['cases_lag_' + str(shift)] = value_series.shift(shift, fill_value = 0)\n",
    "\n",
    "    all_countries_metrics_df = all_countries_metrics_df.append(country_df, ignore_index = True)\n",
    "\n",
    "all_countries_metrics_df.to_csv(os.path.join(app_dir, 'data/staging', 'jhu_cases.csv'), index = False)\n",
    "jhu_cases_raw_df = pd.read_csv(os.path.join(app_dir, 'data/raw/jhu', 'time_series_covid19_confirmed_global.csv'))\n",
    "countries_metrics_df = jhu_cases_raw_df.drop(columns = ['Province/State', 'Lat', 'Long'])\n",
    "countries_metrics_df['Country/Region'] = countries_metrics_df['Country/Region'].replace('US', 'United States')\n",
    "\n",
    "all_countries_metrics_cols = ['country', 'date', 'cases']\n",
    "for shift in range(1, 20):\n",
    "    all_countries_metrics_cols.append('cases_lag_' + str(shift))\n",
    "all_countries_metrics_df = pd.DataFrame(columns = all_countries_metrics_cols)\n",
    "\n",
    "\n",
    "for country in COUNTRIES:\n",
    "    grouped_countries_df = countries_metrics_df.groupby('Country/Region').sum().reset_index()\n",
    "    transposed_df = grouped_countries_df[grouped_countries_df['Country/Region'] == country].drop(columns = ['Country/Region']).transpose()\n",
    "    num_cols = len(transposed_df.columns)\n",
    "    num_rows = transposed_df.shape[0]\n",
    "\n",
    "    if num_rows == 0 or num_cols == 0:\n",
    "        continue\n",
    "\n",
    "    value_col_name = transposed_df.columns[0]\n",
    "\n",
    "    country_series = pd.Series([country] * num_rows)\n",
    "    dates_series = pd.to_datetime(pd.Series(transposed_df.index))\n",
    "    value_series = transposed_df[value_col_name].reset_index()[value_col_name]\n",
    "\n",
    "    country_df = pd.DataFrame({\n",
    "        'country': country_series,\n",
    "        'date': dates_series,\n",
    "        'cases': value_series\n",
    "    })\n",
    "\n",
    "    for shift in range(1, 20):\n",
    "        country_df['cases_lag_' + str(shift)] = value_series.shift(shift, fill_value = 0)\n",
    "\n",
    "    all_countries_metrics_df = all_countries_metrics_df.append(country_df, ignore_index = True)\n",
    "\n",
    "all_countries_metrics_df.to_csv(os.path.join(app_dir, 'data/staging', 'jhu_cases.csv'), index = False)"
   ]
  },
  {
   "cell_type": "code",
   "execution_count": 49,
   "metadata": {},
   "outputs": [],
   "source": [
    "google_mobility_df = pd.read_csv(os.path.join(app_dir, 'data/staging', 'google_mobility.csv'))\n",
    "oxford_stringency_df = pd.read_csv(os.path.join(app_dir, 'data/staging', 'oxford_stringency.csv'))\n",
    "jhu_cases_df = pd.read_csv(os.path.join(app_dir, 'data/staging', 'jhu_cases.csv'))\n",
    "jhu_deaths_df = pd.read_csv(os.path.join(app_dir, 'data/staging', 'jhu_deaths.csv'))\n",
    "jhu_recovered_df = pd.read_csv(os.path.join(app_dir, 'data/staging', 'jhu_recovered.csv'))\n",
    "demographics_df = pd.read_csv(os.path.join(app_dir, 'data/staging', 'demographics_2019.csv'))\n"
   ]
  },
  {
   "cell_type": "code",
   "execution_count": 50,
   "metadata": {},
   "outputs": [],
   "source": [
    "unified_df = google_mobility_df.merge(\n",
    "    oxford_stringency_df,\n",
    "    how = 'inner',\n",
    "    left_on = ['country_region', 'date'],\n",
    "    right_on = ['CountryName', 'Date']\n",
    ").merge(\n",
    "    jhu_cases_df,\n",
    "    how = 'inner',\n",
    "    left_on = ['country_region', 'date'],\n",
    "    right_on = ['country', 'date']\n",
    ").merge(\n",
    "    jhu_deaths_df,\n",
    "    how = 'inner',\n",
    "    left_on = ['country_region', 'date'],\n",
    "    right_on = ['country', 'date']\n",
    ").merge(\n",
    "    jhu_recovered_df,\n",
    "    how = 'inner',\n",
    "    left_on = ['country_region', 'date'],\n",
    "    right_on = ['country', 'date']\n",
    ")[[\n",
    "    'country_region',\n",
    "    'date',\n",
    "    'retail_and_recreation_percent_change_from_baseline',\n",
    "    'grocery_and_pharmacy_percent_change_from_baseline',\n",
    "    'parks_percent_change_from_baseline',\n",
    "    'transit_stations_percent_change_from_baseline',\n",
    "    'workplaces_percent_change_from_baseline',\n",
    "    'residential_percent_change_from_baseline',\n",
    "    'C1_School closing',\n",
    "    'C2_Workplace closing',\n",
    "    'C3_Cancel public events',\n",
    "    'C4_Restrictions on gatherings',\n",
    "    'C5_Close public transport',\n",
    "    'C6_Stay at home requirements',\n",
    "    'C7_Restrictions on internal movement',\n",
    "    'C8_International travel controls',\n",
    "    'E1_Income support',\n",
    "    'E2_Debt/contract relief',\n",
    "    'H1_Public information campaigns',\n",
    "    'H2_Testing policy',\n",
    "    'H3_Contact tracing',\n",
    "    'StringencyIndex',\n",
    "    'cases',\n",
    "    'cases_lag_1',\n",
    "    'cases_lag_2',\n",
    "    'cases_lag_3',\n",
    "    'cases_lag_4',\n",
    "    'cases_lag_5',\n",
    "    'cases_lag_6',\n",
    "    'cases_lag_7',\n",
    "    'cases_lag_8',\n",
    "    'cases_lag_9',\n",
    "    'cases_lag_10',\n",
    "    'cases_lag_11',\n",
    "    'cases_lag_12',\n",
    "    'cases_lag_13',\n",
    "    'cases_lag_14',\n",
    "    'cases_lag_15',\n",
    "    'cases_lag_16',\n",
    "    'cases_lag_17',\n",
    "    'cases_lag_18',\n",
    "    'cases_lag_19',\n",
    "    'deaths',\n",
    "    'recovered'\n",
    "]]\n",
    "\n",
    "\n"
   ]
  },
  {
   "cell_type": "code",
   "execution_count": 51,
   "metadata": {},
   "outputs": [],
   "source": [
    "unified_df.to_csv(os.path.join(app_dir, 'data/staging', 'unified.csv'), index = False)"
   ]
  },
  {
   "cell_type": "code",
   "execution_count": null,
   "metadata": {},
   "outputs": [],
   "source": []
  },
  {
   "cell_type": "code",
   "execution_count": 84,
   "metadata": {},
   "outputs": [],
   "source": [
    "demographics_df = pd.read_csv(os.path.join(app_dir, 'data/raw/demographics', 'WPP2019_TotalPopulationBySex.csv'))\n",
    "demographics_2019_df = demographics_df[demographics_df['Time'] == 2019][['Location', 'PopTotal', 'PopDensity']]"
   ]
  },
  {
   "cell_type": "code",
   "execution_count": 87,
   "metadata": {},
   "outputs": [
    {
     "output_type": "execute_result",
     "data": {
      "text/plain": "                                         Location     PopTotal  PopDensity\n0                                     Afghanistan    38041.757      58.269\n1                                          Africa  1308064.176      44.119\n2                                   African Group  1306320.572      44.464\n3                                   African Union  1306903.030      44.085\n4                   African Union: Central Africa   154013.705      29.192\n..                                            ...          ...         ...\n469                                         World  7713468.205      59.291\n470  World Bank Regional Groups (developing only)  6452517.055      70.258\n471                                         Yemen    29161.922      55.234\n472                                        Zambia    17861.034      24.026\n473                                      Zimbabwe    14645.473      37.858\n\n[474 rows x 3 columns]",
      "text/html": "<div>\n<style scoped>\n    .dataframe tbody tr th:only-of-type {\n        vertical-align: middle;\n    }\n\n    .dataframe tbody tr th {\n        vertical-align: top;\n    }\n\n    .dataframe thead th {\n        text-align: right;\n    }\n</style>\n<table border=\"1\" class=\"dataframe\">\n  <thead>\n    <tr style=\"text-align: right;\">\n      <th></th>\n      <th>Location</th>\n      <th>PopTotal</th>\n      <th>PopDensity</th>\n    </tr>\n  </thead>\n  <tbody>\n    <tr>\n      <th>0</th>\n      <td>Afghanistan</td>\n      <td>38041.757</td>\n      <td>58.269</td>\n    </tr>\n    <tr>\n      <th>1</th>\n      <td>Africa</td>\n      <td>1308064.176</td>\n      <td>44.119</td>\n    </tr>\n    <tr>\n      <th>2</th>\n      <td>African Group</td>\n      <td>1306320.572</td>\n      <td>44.464</td>\n    </tr>\n    <tr>\n      <th>3</th>\n      <td>African Union</td>\n      <td>1306903.030</td>\n      <td>44.085</td>\n    </tr>\n    <tr>\n      <th>4</th>\n      <td>African Union: Central Africa</td>\n      <td>154013.705</td>\n      <td>29.192</td>\n    </tr>\n    <tr>\n      <th>...</th>\n      <td>...</td>\n      <td>...</td>\n      <td>...</td>\n    </tr>\n    <tr>\n      <th>469</th>\n      <td>World</td>\n      <td>7713468.205</td>\n      <td>59.291</td>\n    </tr>\n    <tr>\n      <th>470</th>\n      <td>World Bank Regional Groups (developing only)</td>\n      <td>6452517.055</td>\n      <td>70.258</td>\n    </tr>\n    <tr>\n      <th>471</th>\n      <td>Yemen</td>\n      <td>29161.922</td>\n      <td>55.234</td>\n    </tr>\n    <tr>\n      <th>472</th>\n      <td>Zambia</td>\n      <td>17861.034</td>\n      <td>24.026</td>\n    </tr>\n    <tr>\n      <th>473</th>\n      <td>Zimbabwe</td>\n      <td>14645.473</td>\n      <td>37.858</td>\n    </tr>\n  </tbody>\n</table>\n<p>474 rows × 3 columns</p>\n</div>"
     },
     "metadata": {},
     "execution_count": 87
    }
   ],
   "source": [
    "demographics_2019_df.groupby('Location').mean().reset_index()"
   ]
  },
  {
   "cell_type": "code",
   "execution_count": 88,
   "metadata": {},
   "outputs": [],
   "source": [
    "demographics_2019_df.to_csv(os.path.join(app_dir, 'data/staging', 'demographics_2019.csv'), index = False)"
   ]
  },
  {
   "cell_type": "code",
   "execution_count": null,
   "metadata": {},
   "outputs": [],
   "source": []
  }
 ],
 "metadata": {
  "language_info": {
   "codemirror_mode": {
    "name": "ipython",
    "version": 3
   },
   "file_extension": ".py",
   "mimetype": "text/x-python",
   "name": "python",
   "nbconvert_exporter": "python",
   "pygments_lexer": "ipython3",
   "version": "3.7.7-final"
  },
  "orig_nbformat": 2,
  "kernelspec": {
   "name": "python37364bitbaseconda5256b649568d47b0ada5f4982042f9e1",
   "display_name": "Python 3.7.3 64-bit ('base': conda)"
  }
 },
 "nbformat": 4,
 "nbformat_minor": 2
}